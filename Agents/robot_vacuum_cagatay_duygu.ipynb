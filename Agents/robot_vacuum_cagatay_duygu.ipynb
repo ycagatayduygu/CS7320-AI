{
  "cells": [
    {
      "cell_type": "markdown",
      "metadata": {
        "id": "qmiqjVBDh4l3"
      },
      "source": [
        "# Intelligent Agents: Reflex-Based Agents for the Vacuum-cleaner World\n",
        "\n",
        "\n",
        "## Instructions\n",
        "\n",
        "Total Points: Undergrads 100 / Graduate students 110\n",
        "\n",
        "Complete this notebook. Use the provided notebook cells and insert additional code and markdown cells as needed. Submit the completely rendered notebook as a PDF file. \n",
        "\n",
        "## Introduction\n",
        "\n",
        "In this assignment you will implement a simulator environment for an automatic vacuum cleaner robot, a set of different reflex-based agent programs, and perform a comparison study for cleaning a single room. Focus on the __cleaning phase__ which starts when the robot is activated and ends when the last dirty square in the room has been cleaned. Someone else will take care of the agent program needed to navigate back to the charging station after the room is clean.\n",
        "\n",
        "## PEAS description of the cleaning phase\n",
        "\n",
        "__Performance Measure:__ Each action costs 1 energy unit. The performance is measured as the sum of the energy units used to clean the whole room.\n",
        "\n",
        "__Environment:__ A room with $n \\times n$ squares where $n = 5$. Dirt is randomly placed on each square with probability $p = 0.2$. For simplicity, you can assume that the agent knows the size and the layout of the room (i.e., it knows $n$). To start, the agent is placed on a random square.\n",
        "\n",
        "__Actuators:__ The agent can clean the current square (action `suck`) or move to an adjacent square by going `north`, `east`, `south`, or `west`.\n",
        "\n",
        "__Sensors:__ Four bumper sensors, one for north, east, south, and west; a dirt sensor reporting dirt in the current square.  \n",
        "\n",
        "\n",
        "## The agent program for a simple randomized agent\n",
        "\n",
        "The agent program is a function that gets sensor information (the current percepts) as the arguments. The arguments are:\n",
        "\n",
        "* A dictionary with boolean entries for the for bumper sensors `north`, `east`, `west`, `south`. E.g., if the agent is on the north-west corner, `bumpers` will be `{\"north\" : True, \"east\" : False, \"south\" : False, \"west\" : True}`.\n",
        "* The dirt sensor produces a boolean.\n",
        "\n",
        "The agent returns the chosen action as a string.\n",
        "\n",
        "Here is an example implementation for the agent program of a simple randomized agent:  "
      ]
    },
    {
      "cell_type": "markdown",
      "source": [
        "**CAGATAY DUYGU**\n",
        "\n",
        "\n",
        "\n",
        "**48369962**\n"
      ],
      "metadata": {
        "id": "x4A4UzVQSRUd"
      }
    },
    {
      "cell_type": "markdown",
      "metadata": {
        "id": "T1a5HTjyh4l9"
      },
      "source": [
        "__Note:__ This is not a rational intelligent agent. It ignores its sensors and may bump into a wall repeatedly or not clean a dirty square. You will be asked to implement rational agents below."
      ]
    },
    {
      "cell_type": "markdown",
      "metadata": {
        "id": "QpvH3gc3h4mB"
      },
      "source": [
        "# Tasks\n",
        "\n",
        "## General [10 Points]\n",
        "\n",
        "1. Make sure that you use the latest version of this notebook. Sync your forked repository and pull the latest revision. \n",
        "2. Your implementation can use libraries like math, numpy, scipy, but not libraries that implement inteligent agents or complete search algorithms. Try to keep the code simple! In this course, we want to learn about the algorithms and we often do not need to use object-oriented design.\n",
        "3. You notebook needs to be formated professionally. \n",
        "    - Add additional markdown blocks for your description, comments in the code, add tables and use mathplotlib to produce charts where appropriate\n",
        "    - Do not show debugging output or include an excessive amount of output.\n",
        "    - Check that your PDF file is readable. For example, long lines are cut off in the PDF file. You don't have control over page breaks, so do not worry about these.\n",
        "4. Document your code. Add a short discussion of how your implementation works and your design choices.\n",
        "\n",
        "\n",
        "## Task 1: Implement a simulation environment [20 Points]\n",
        "\n",
        "The simple environment above is not very realistic. Your environment simulator needs to follow the PEAS description from above. It needs to:\n",
        "\n",
        "* Initialize the environment by storing the state of each square (clean/dirty) and making some dirty. ([Help with random numbers and arrays in Python](https://github.com/mhahsler/CS7320-AI/blob/master/Python_Code_Examples/random_numbers_and_arrays.ipynb))\n",
        "* Keep track of the agent's position.\n",
        "* Call the agent function repeatedly and provide the agent function with the sensor inputs.  \n",
        "* React to the agent's actions. E.g, by removing dirt from a square or moving the agent around unless there is a wall in the way.\n",
        "* Keep track of the performance measure. That is, track the agent's actions until all dirty squares are clean and count the number of actions it takes the agent to complete the task.\n",
        "\n",
        "The easiest implementation for the environment is to hold an 2-dimensional array to represent if squares are clean or dirty and to call the agent function in a loop until all squares are clean or a predefined number of steps have been reached (i.e., the robot runs out of energy).\n",
        "\n",
        "The simulation environment should be a function like the `simple_environment()` and needs to work with the simple randomized agent program from above. **Use the same environmnt for all your agent implementations in the tasks below.**\n",
        "\n",
        "*Note on debugging:* Debugging is difficult. Make sure your environment prints enough information when you use `verbose = True`. Also, implementing a function that the environment can use to displays the room with dirt and the current position of the robot at every step is very useful.  "
      ]
    },
    {
      "cell_type": "markdown",
      "source": [
        "## Simple Environment Matrix:\n",
        "0: clean points,\n",
        "1:dirty points,\n",
        "3:walls,\n",
        "2:obstacles\n",
        "\n",
        "Environment Matrix is defined randomly. Without obstacle situation, all matrix is defined 1,0 values inside and 3 values on the wall."
      ],
      "metadata": {
        "id": "AC5YuZeFselw"
      }
    },
    {
      "cell_type": "markdown",
      "source": [
        "## Randomized Agent with displacement values."
      ],
      "metadata": {
        "id": "zj_MP6buxwzw"
      }
    },
    {
      "cell_type": "code",
      "execution_count": null,
      "metadata": {
        "id": "PqsDqXh6w1Pi"
      },
      "outputs": [],
      "source": [
        "import numpy as np\n",
        "\n",
        "#delta represents the displacement value. for every action, displacement value is changed\n",
        "\n",
        "def simple_randomized_agent():\n",
        "    actions = [\"north\", \"east\", \"west\", \"south\", \"suck\"]\n",
        "    chosen_Act = np.random.choice(actions)\n",
        "    if chosen_Act == 'north':\n",
        "        delta = [-1,0]\n",
        "    if chosen_Act == 'east':\n",
        "        delta = [0,1]\n",
        "    if chosen_Act == 'west':\n",
        "        delta = [0,-1]\n",
        "    if chosen_Act == 'south':\n",
        "        delta = [1,0]  \n",
        "    if chosen_Act == 'suck':\n",
        "        delta = [0,0]\n",
        "    return np.array(delta), chosen_Act"
      ]
    },
    {
      "cell_type": "markdown",
      "source": [
        "## Simple Environment Randomized Agent"
      ],
      "metadata": {
        "id": "RJ6_3s2lx0w0"
      }
    },
    {
      "cell_type": "markdown",
      "source": [
        "0: Clean points\n",
        "1: Dirty Points\n",
        "2:Obstacles\n",
        "3:Walls\n",
        "\n"
      ],
      "metadata": {
        "id": "FCGhLnt9yF71"
      }
    },
    {
      "cell_type": "code",
      "execution_count": null,
      "metadata": {
        "id": "9BGqsZk3w1Pj"
      },
      "outputs": [],
      "source": [
        "\n",
        "def simple_environment(n,agent, max_steps, bumpers = {\"north\" : False, \"east\" : False, \"south\" : False, \"west\" : False, \"dirt\" : False }):\n",
        "    robot_position = np.random.choice([i for i in range(1,n-1)], size=(1, 2))[0]\n",
        "    environment=np.random.choice(2, size=(n, n), p=[0.8, 0.2])\n",
        "    #value 2 should be replaced to 3 if there is any obstacle in the environment and another possibility value should be added.\n",
        "    \n",
        "    #3 represents the walls. First and last column and rows of the environment matrix will be all 3.\n",
        "    environment[0] = [3 for i in range(n)]\n",
        "    environment[n-1] = [3 for i in range(n)]\n",
        "    environment[:,0] = [3 for i in range(n)]\n",
        "    environment[:,n-1]=[3 for i in range(n)]\n",
        "\n",
        "    \n",
        "    for i in range(max_steps): \n",
        "      #Defines sensors for the environment. Bumpers will see the walls(3) and obstacles(2) if there is any.\n",
        "      #This case there are only walls. Dirt sensor is defined inside bumpers matrix and represented\n",
        "      #as one \n",
        "        if robot_position[0] == n-2: bumpers[\"south\"] = True\n",
        "        if robot_position[0] != n-2: bumpers[\"south\"] = False \n",
        "        if robot_position[1] == n-2: bumpers[\"east\"] = True\n",
        "        if robot_position[1] != n-2: bumpers[\"east\"] = False\n",
        "        if robot_position[1] == 1: bumpers[\"west\"] = True\n",
        "        if robot_position[1] != 1: bumpers[\"west\"] = False\n",
        "        if robot_position[0] == 1: bumpers[\"north\"] = True\n",
        "        if robot_position[0] != 1: bumpers[\"north\"] = False\n",
        "        if environment[robot_position[0]-1][robot_position[1]]==2:bumpers[\"north\"]=True\n",
        "        if environment[robot_position[0]][robot_position[1]+1]==2:bumpers[\"east\"]=True\n",
        "        if environment[robot_position[0]+1][robot_position[1]]==2:bumpers[\"south\"]=True\n",
        "        if environment[robot_position[0]][robot_position[1]-1]==2:bumpers[\"north\"]=True\n",
        "        if environment[robot_position[0]][robot_position[1]]==1: bumpers[\"dirt\"]=True\n",
        "        if environment[robot_position[0]][robot_position[1]]==0: bumpers[\"dirt\"]=False\n",
        "        delta, act = agent()\n",
        "        #print(robot_position, act)\n",
        "        if act=='suck':\n",
        "           environment[robot_position[0]][robot_position[1]]=0\n",
        "        else:\n",
        "           environment=environment\n",
        "        if (bumpers[\"north\"] == True) and (act == 'north'):\n",
        "            robot_position = robot_position\n",
        "        elif (bumpers[\"south\"] == True) and (act == 'south'):\n",
        "            robot_position = robot_position\n",
        "        elif (bumpers[\"east\"] == True) and (act == 'east'):\n",
        "            robot_position = robot_position \n",
        "        elif (bumpers[\"west\"] == True) and (act == 'west'):\n",
        "            robot_position = robot_position \n",
        "        else:\n",
        "            robot_position = robot_position + delta\n",
        "      \n",
        "        print(\"Number of iteration:\")\n",
        "        print(i+1)\n",
        "        print(\"position of robot:\")\n",
        "        print(robot_position)\n",
        "        print(\"Action taken:\")\n",
        "        print(act)\n",
        "        print(\"Environment status after the action\")\n",
        "        print(environment)\n",
        "        print(bumpers)\n",
        "        #if the environment is clean, break the loop.\n",
        "        if 1 not in environment:\n",
        "            break\n",
        "#returns the total action required.\n",
        "    return i+1"
      ]
    },
    {
      "cell_type": "code",
      "execution_count": null,
      "metadata": {
        "id": "gwIuaXZow1Pm",
        "outputId": "08f640f6-84ed-45ff-c58b-dd43d4638feb",
        "colab": {
          "base_uri": "https://localhost:8080/"
        }
      },
      "outputs": [
        {
          "output_type": "stream",
          "name": "stdout",
          "text": [
            "Number of iteration:\n",
            "1\n",
            "position of robot:\n",
            "[3 2]\n",
            "Action taken:\n",
            "suck\n",
            "Environment status after the action\n",
            "[[3 3 3 3 3 3 3]\n",
            " [3 0 1 0 0 0 3]\n",
            " [3 0 0 0 1 1 3]\n",
            " [3 0 0 1 0 1 3]\n",
            " [3 0 0 0 0 0 3]\n",
            " [3 1 0 1 0 1 3]\n",
            " [3 3 3 3 3 3 3]]\n",
            "{'north': False, 'east': False, 'south': False, 'west': False, 'dirt': False}\n",
            "Number of iteration:\n",
            "2\n",
            "position of robot:\n",
            "[3 1]\n",
            "Action taken:\n",
            "west\n",
            "Environment status after the action\n",
            "[[3 3 3 3 3 3 3]\n",
            " [3 0 1 0 0 0 3]\n",
            " [3 0 0 0 1 1 3]\n",
            " [3 0 0 1 0 1 3]\n",
            " [3 0 0 0 0 0 3]\n",
            " [3 1 0 1 0 1 3]\n",
            " [3 3 3 3 3 3 3]]\n",
            "{'north': False, 'east': False, 'south': False, 'west': False, 'dirt': False}\n",
            "Number of iteration:\n",
            "3\n",
            "position of robot:\n",
            "[3 1]\n",
            "Action taken:\n",
            "west\n",
            "Environment status after the action\n",
            "[[3 3 3 3 3 3 3]\n",
            " [3 0 1 0 0 0 3]\n",
            " [3 0 0 0 1 1 3]\n",
            " [3 0 0 1 0 1 3]\n",
            " [3 0 0 0 0 0 3]\n",
            " [3 1 0 1 0 1 3]\n",
            " [3 3 3 3 3 3 3]]\n",
            "{'north': False, 'east': False, 'south': False, 'west': True, 'dirt': False}\n",
            "Number of iteration:\n",
            "4\n",
            "position of robot:\n",
            "[3 1]\n",
            "Action taken:\n",
            "west\n",
            "Environment status after the action\n",
            "[[3 3 3 3 3 3 3]\n",
            " [3 0 1 0 0 0 3]\n",
            " [3 0 0 0 1 1 3]\n",
            " [3 0 0 1 0 1 3]\n",
            " [3 0 0 0 0 0 3]\n",
            " [3 1 0 1 0 1 3]\n",
            " [3 3 3 3 3 3 3]]\n",
            "{'north': False, 'east': False, 'south': False, 'west': True, 'dirt': False}\n",
            "Number of iteration:\n",
            "5\n",
            "position of robot:\n",
            "[3 1]\n",
            "Action taken:\n",
            "suck\n",
            "Environment status after the action\n",
            "[[3 3 3 3 3 3 3]\n",
            " [3 0 1 0 0 0 3]\n",
            " [3 0 0 0 1 1 3]\n",
            " [3 0 0 1 0 1 3]\n",
            " [3 0 0 0 0 0 3]\n",
            " [3 1 0 1 0 1 3]\n",
            " [3 3 3 3 3 3 3]]\n",
            "{'north': False, 'east': False, 'south': False, 'west': True, 'dirt': False}\n"
          ]
        },
        {
          "output_type": "execute_result",
          "data": {
            "text/plain": [
              "5"
            ]
          },
          "metadata": {},
          "execution_count": 14
        }
      ],
      "source": [
        "import numpy as np\n",
        "n=7\n",
        "simple_environment(n,simple_randomized_agent, max_steps = 5)\n"
      ]
    },
    {
      "cell_type": "markdown",
      "metadata": {
        "id": "QGXV9l3Xh4mG"
      },
      "source": [
        "## Task 2:  Implement a simple reflex agent [10 Points] \n",
        "\n",
        "The simple reflex agent randomly walks around but reacts to the bumper sensor by not bumping into the wall and to dirt with sucking. Implement the agent program as a function.\n",
        "\n",
        "_Note:_ Agents cannot directly use variable in the environment. They only gets the percepts as the arguments to the agent function."
      ]
    },
    {
      "cell_type": "markdown",
      "source": [
        "Obstacle moved around randomly. It does not suck randomly. If it detects dirt in its position, it cleans the dirt. If it gets positive value in its bumpers sensors, it removes the action from its potential actions and select an action from its potential actions randomly"
      ],
      "metadata": {
        "id": "h6cLh_kyTk0d"
      }
    },
    {
      "cell_type": "code",
      "execution_count": null,
      "metadata": {
        "id": "4kwS34gGKtFi"
      },
      "outputs": [],
      "source": [
        "import numpy as np"
      ]
    },
    {
      "cell_type": "code",
      "execution_count": null,
      "metadata": {
        "id": "SG9g6WFth4mG"
      },
      "outputs": [],
      "source": [
        "# Your code and description goes here\n",
        "\n",
        "def simple_agent(sensor):\n",
        "    actions = [\"north\", \"east\", \"west\", \"south\"]\n",
        "    chosen_Act = np.random.choice(actions)\n",
        "    \n",
        "    # ACTION REMOVAL\n",
        "    if (chosen_Act == 'north') and (sensor[\"north\"]==True):\n",
        "        actions.remove('north')\n",
        "        chosen_Act = np.random.choice(actions)\n",
        "    if chosen_Act == 'north' and (sensor[\"north\"]==False): chosen_Act='north'\n",
        "\n",
        "    if (chosen_Act == 'east') and (sensor[\"east\"]==True):\n",
        "        actions.remove('east')\n",
        "        chosen_Act = np.random.choice(actions)\n",
        "    if chosen_Act == 'east' and (sensor[\"east\"]==False): chosen_Act='east'        \n",
        "\n",
        "    if (chosen_Act == 'south') and (sensor[\"south\"]==True):\n",
        "        actions.remove('south')\n",
        "        chosen_Act = np.random.choice(actions)\n",
        "    if chosen_Act == 'south' and (sensor[\"south\"]==False): chosen_Act='south' \n",
        "\n",
        "    if (chosen_Act == 'west') and (sensor[\"west\"]==True):\n",
        "        actions.remove('west')\n",
        "        chosen_Act = np.random.choice(actions)\n",
        "    if chosen_Act == 'west' and (sensor[\"west\"]==False): chosen_Act='west' \n",
        "\n",
        "    if sensor[\"dirt\"]==True: chosen_Act='suck'\n",
        "\n",
        "    return chosen_Act\n",
        "\n"
      ]
    },
    {
      "cell_type": "code",
      "execution_count": null,
      "metadata": {
        "id": "mFsl2Lhc8j69"
      },
      "outputs": [],
      "source": [
        "#SIMPLE ENVIRONMENT IS FOR REFLEX AGENT IS DEFINED:\n",
        "def simple_environment_2(n,agent, max_steps, bumpers = {\"north\" : False, \"east\" : False, \"south\" : False, \"west\" : False, \"dirt\" : False }):\n",
        "    robot_position = np.random.choice([i for i in range(1,n-1)], size=(1, 2))[0]\n",
        "    environment=np.random.choice(2, size=(n, n), p=[0.8, 0.2])\n",
        "    environment[0] = [3 for i in range(n)]\n",
        "    environment[n-1] = [3 for i in range(n)]\n",
        "    environment[:,0] = [3 for i in range(n)]\n",
        "    environment[:,n-1]=[3 for i in range(n)]\n",
        "    #print(\"First Position of the robot:\")\n",
        "    #print(robot_position)\n",
        "  #print(robot_position)\n",
        "   # south_con, north_con, west_con, east_con = robot_position[0] == 4, \n",
        "    \n",
        "    for i in range(max_steps): \n",
        "      #define environmental obstacles. For this case, bumpers will only see the\n",
        "      #walls. Dirt sensor is also defined here.\n",
        "        #reward_space[robot_position[0]+1][robot_position[1]+1]=reward_space[robot_position[0]][robot_position[1]]+1\n",
        "        if robot_position[0] == n-2: bumpers[\"south\"] = True\n",
        "        if robot_position[0] != n-2: bumpers[\"south\"] = False \n",
        "        if robot_position[1] == n-2: bumpers[\"east\"] = True\n",
        "        if robot_position[1] != n-2: bumpers[\"east\"] = False\n",
        "        if robot_position[1] == 1: bumpers[\"west\"] = True\n",
        "        if robot_position[1] != 1: bumpers[\"west\"] = False\n",
        "        if robot_position[0] == 1: bumpers[\"north\"] = True\n",
        "        if robot_position[0] != 1: bumpers[\"north\"] = False\n",
        "        if environment[robot_position[0]-1][robot_position[1]]==2:bumpers[\"north\"]=True\n",
        "        if environment[robot_position[0]][robot_position[1]+1]==2:bumpers[\"east\"]=True\n",
        "        if environment[robot_position[0]+1][robot_position[1]]==2:bumpers[\"south\"]=True\n",
        "        if environment[robot_position[0]][robot_position[1]-1]==2:bumpers[\"north\"]=True\n",
        "\n",
        "\n",
        "        if environment[robot_position[0]][robot_position[1]]==1: bumpers[\"dirt\"]=True\n",
        "        if environment[robot_position[0]][robot_position[1]]==0: bumpers[\"dirt\"]=False\n",
        "        act = agent(bumpers)\n",
        "        if act == 'east':\n",
        "          delta = [0,1]\n",
        "        if act == 'west':\n",
        "          delta = [0,-1]\n",
        "        if act == 'south':\n",
        "          delta = [1,0]  \n",
        "        if act == 'suck':\n",
        "          delta = [0,0]\n",
        "        if act == 'north':\n",
        "          delta = [-1,0]\n",
        "        #print(robot_position, act)\n",
        "        if act=='suck':\n",
        "           environment[robot_position[0]][robot_position[1]]=0\n",
        "        else:\n",
        "           environment=environment\n",
        "        if (bumpers[\"north\"] == True) and (act == 'north'):\n",
        "            robot_position = robot_position\n",
        "        elif (bumpers[\"south\"] == True) and (act == 'south'):\n",
        "            robot_position = robot_position\n",
        "        elif (bumpers[\"east\"] == True) and (act == 'east'):\n",
        "            robot_position = robot_position \n",
        "        elif (bumpers[\"west\"] == True) and (act == 'west'):\n",
        "            robot_position = robot_position \n",
        "        else:\n",
        "            robot_position = robot_position + delta\n",
        "      \n",
        "        print(\"Number of iteration:\")\n",
        "        print(i+1)\n",
        "        print(bumpers)\n",
        "        print(\"Action taken:\")\n",
        "        print(act)\n",
        "        print(\"position of robot:\")\n",
        "        print(robot_position)\n",
        "        print(\"Environment status after the action\")\n",
        "        print(environment)\n",
        "        \n",
        "        #print(reward_space)\n",
        "        #if the environment is clean, break the loop.\n",
        "        if 1 not in environment:\n",
        "            break\n",
        "        \n",
        "    return i+1"
      ]
    },
    {
      "cell_type": "code",
      "execution_count": null,
      "metadata": {
        "colab": {
          "base_uri": "https://localhost:8080/"
        },
        "outputId": "bf1d7ea5-1eab-453f-e957-7d6f66c71ec9",
        "id": "Ak72wgfb8j7T"
      },
      "outputs": [
        {
          "output_type": "stream",
          "name": "stdout",
          "text": [
            "Number of iteration:\n",
            "1\n",
            "{'north': True, 'east': False, 'south': False, 'west': False, 'dirt': True}\n",
            "Action taken:\n",
            "suck\n",
            "position of robot:\n",
            "[1 4]\n",
            "Environment status after the action\n",
            "[[3 3 3 3 3 3 3]\n",
            " [3 0 0 0 0 1 3]\n",
            " [3 0 0 0 0 0 3]\n",
            " [3 0 0 0 0 0 3]\n",
            " [3 0 0 1 1 0 3]\n",
            " [3 0 0 0 1 0 3]\n",
            " [3 3 3 3 3 3 3]]\n",
            "Number of iteration:\n",
            "2\n",
            "{'north': True, 'east': False, 'south': False, 'west': False, 'dirt': False}\n",
            "Action taken:\n",
            "south\n",
            "position of robot:\n",
            "[2 4]\n",
            "Environment status after the action\n",
            "[[3 3 3 3 3 3 3]\n",
            " [3 0 0 0 0 1 3]\n",
            " [3 0 0 0 0 0 3]\n",
            " [3 0 0 0 0 0 3]\n",
            " [3 0 0 1 1 0 3]\n",
            " [3 0 0 0 1 0 3]\n",
            " [3 3 3 3 3 3 3]]\n",
            "Number of iteration:\n",
            "3\n",
            "{'north': False, 'east': False, 'south': False, 'west': False, 'dirt': False}\n",
            "Action taken:\n",
            "west\n",
            "position of robot:\n",
            "[2 3]\n",
            "Environment status after the action\n",
            "[[3 3 3 3 3 3 3]\n",
            " [3 0 0 0 0 1 3]\n",
            " [3 0 0 0 0 0 3]\n",
            " [3 0 0 0 0 0 3]\n",
            " [3 0 0 1 1 0 3]\n",
            " [3 0 0 0 1 0 3]\n",
            " [3 3 3 3 3 3 3]]\n"
          ]
        },
        {
          "output_type": "execute_result",
          "data": {
            "text/plain": [
              "3"
            ]
          },
          "metadata": {},
          "execution_count": 23
        }
      ],
      "source": [
        "import numpy as np\n",
        "n=7\n",
        "simple_environment_2(n,simple_agent, max_steps = 3)\n"
      ]
    },
    {
      "cell_type": "markdown",
      "metadata": {
        "id": "9buOpV5mh4mG"
      },
      "source": [
        "## Task 3: Implement a model-based reflex agent [20 Points]\n",
        "\n",
        "Model-based agents use a state to keep track of what they have done and perceived so far. Your agent needs to find out where it is located and then keep track of its current location. You also need a set of rules based on the state and the percepts to make sure that the agent will clean the whole room. For example, the agent can move to a corner to determine its location and then it can navigate through the whole room and clean dirty squares.\n",
        "\n",
        "Describe how you define the __agent state__ and how your agent works before implementing it. ([Help with implementing state information on Python](https://github.com/mhahsler/CS7320-AI/blob/master/Python_Code_Examples/store_agent_state_information.ipynb))"
      ]
    },
    {
      "cell_type": "markdown",
      "source": [
        "**Firstly, robot goes to North-West corner.**\n",
        "\n",
        "**When these two sensor is True, robot know that its position is [1,1]**\n",
        "\n",
        "**A negative reward matrix is defined from robot location.**\n",
        "\n",
        "**Reward space is an array and it is all zeros in the beginning.**\n",
        "\n",
        "**Robot position is reward space is added 1 every iteration.**\n",
        "\n",
        "**Every iteration, robot looks at if there is dirt in its location. If there is it cleans the dirt.**\n",
        "\n",
        "**If there is no dirt, it looks at its neigbor's reward space equivalent. It selects the minimum value and take the action accordingly.**\n",
        "\n",
        "**If there are same values more than 1, agent selects the action randomly.**"
      ],
      "metadata": {
        "id": "BsioUG7pT4yz"
      }
    },
    {
      "cell_type": "code",
      "execution_count": null,
      "metadata": {
        "id": "97QHUjTmPwLD"
      },
      "outputs": [],
      "source": [
        "import numpy as np"
      ]
    },
    {
      "cell_type": "code",
      "execution_count": null,
      "metadata": {
        "id": "fDQ2XBnfPwLE"
      },
      "outputs": [],
      "source": [
        "# Your code and description goes here\n",
        "\n",
        "def find_station(n,robot_position,max_steps):\n",
        "    chosen_Act = 'north'\n",
        "    for i in range(max_steps):\n",
        "        # sensors sensing\n",
        "        if robot_position[0] == n-2: bumpers[\"south\"] = True\n",
        "        if robot_position[0] != n-2: bumpers[\"south\"] = False \n",
        "        if robot_position[1] == n-2: bumpers[\"east\"] = True\n",
        "        if robot_position[1] != n-2: bumpers[\"east\"] = False\n",
        "        if robot_position[1] == 1: bumpers[\"west\"] = True\n",
        "        if robot_position[1] != 1: bumpers[\"west\"] = False\n",
        "        if robot_position[0] == 1: bumpers[\"north\"] = True\n",
        "        if robot_position[0] != 1: bumpers[\"north\"] = False\n",
        "        # rationalizing action\n",
        "        if bumpers[chosen_Act] == True: \n",
        "            chosen_Act = 'west' \n",
        "        else: \n",
        "            chosen_Act = chosen_Act\n",
        "        if bumpers[chosen_Act] == True:\n",
        "            #print('arrived at north-west corner')\n",
        "            #print('saving position as (0,0) to memory')\n",
        "            memory_position = robot_position\n",
        "            break\n",
        "        # act upon chosen action\n",
        "        if chosen_Act == 'east':\n",
        "            delta = [0,1]\n",
        "        if chosen_Act == 'west':\n",
        "            delta = [0,-1]\n",
        "        if chosen_Act == 'south':\n",
        "            delta = [1,0]  \n",
        "        if chosen_Act == 'suck':\n",
        "            delta = [0,0]\n",
        "        if chosen_Act == 'north':\n",
        "            delta = [-1,0]         \n",
        "        # changed position\n",
        "        robot_position = robot_position + delta\n",
        "        #print(robot_position)\n",
        "    return robot_position\n",
        "\n",
        "#Look at the reward values and select minimum value and its act.\n",
        "def reward_based_movement(robot_position, reward_space, actions):\n",
        "    # robot_position = [0, 0]\n",
        "    # actions = {\"east\" : [0,1], \"south\" : [1,0]}\n",
        "    p_pos, p_reward = list(), list()\n",
        "    p_delta = [j for i,j in actions.items()]\n",
        "    for i in range(len(p_delta)):\n",
        "        p_pos.append(np.array(robot_position) + p_delta[i])\n",
        "        p_reward.append(reward_space[p_pos[-1][0]][p_pos[-1][1]])\n",
        "    idx = p_reward.index(min(p_reward)) # find index of the low reward direction\n",
        "    act = list(actions.keys())[idx]\n",
        "    #print(chosen_Act) \n",
        "    #print(reward_space)\n",
        "    return act\n",
        "\n",
        "def modal_based_agent(n, robot_position, max_steps):\n",
        "    env=np.random.choice(2, size=(n, n), p=[0.8, 0.2])\n",
        "    env[0] = [3 for i in range(n)]\n",
        "    env[n-1] = [3 for i in range(n)]\n",
        "    env[:,0] = [3 for i in range(n)]\n",
        "    env[:,n-1]=[3 for i in range(n)]\n",
        "    robot_position_array = list()\n",
        "    reward_space = np.zeros(shape = (n,n))\n",
        "    #print('This is the environment matrix:')\n",
        "    #print(env)\n",
        "    for i in range(max_steps):\n",
        "        # return back all possiblities.\n",
        "        actions = {\"north\" : [-1,0] , \"east\": [0,1], \"west\" : [0,-1], \"south\" : [1, 0]}\n",
        "        reward_space[robot_position[0]][robot_position[1]]=reward_space[robot_position[0]][robot_position[1]]+1\n",
        "        #print(robot_position)\n",
        "        # sensors\n",
        "        if robot_position[0] == n-2: bumpers[\"south\"] = True\n",
        "        if robot_position[0] != n-2: bumpers[\"south\"] = False \n",
        "        if robot_position[1] == n-2: bumpers[\"east\"] = True\n",
        "        if robot_position[1] != n-2: bumpers[\"east\"] = False\n",
        "        if robot_position[1] == 1: bumpers[\"west\"] = True\n",
        "        if robot_position[1] != 1: bumpers[\"west\"] = False\n",
        "        if robot_position[0] == 1: bumpers[\"north\"] = True\n",
        "        if robot_position[0] != 1: bumpers[\"north\"] = False\n",
        "\n",
        "       \n",
        "        # Obstacle recognition  \n",
        "        if env[robot_position[0]-1][robot_position[1]]==2:bumpers[\"north\"]=True\n",
        "        if env[robot_position[0]][robot_position[1]+1]==2:bumpers[\"east\"]=True\n",
        "        if env[robot_position[0]+1][robot_position[1]]==2:bumpers[\"south\"]=True\n",
        "        if env[robot_position[0]][robot_position[1]-1]==2:bumpers[\"west\"]=True\n",
        "        if env[robot_position[0]][robot_position[1]]==1: bumpers[\"suck\"]=True\n",
        "        if env[robot_position[0]][robot_position[1]]==0: bumpers[\"suck\"]=False\n",
        "      \n",
        "        \n",
        "        # eliminate irrational choices to determine the action:         \n",
        "        if bumpers[\"suck\"] == True: \n",
        "            chosen_Act = 'suck'\n",
        "            #print('sucking')\n",
        "        else:\n",
        "            if bumpers['south'] ==  True: del actions['south']  # actions.remove('south')\n",
        "            if bumpers['east'] ==  True:  del actions['east']   # actions.remove('east')\n",
        "            if bumpers['west'] ==  True:  del actions['west']   # actions.remove('west')\n",
        "            if bumpers['north'] ==  True: del actions['north']  # actions.remove('north')\n",
        "        \n",
        "        # Choosing rational action        \n",
        "            if i == 0: \n",
        "                chosen_Act = np.random.choice(list(actions.keys()))\n",
        "                #print('first step')  # first action is total random chosen from possible paths.\n",
        "            elif bumpers[chosen_Act] == True: \n",
        "                #print('we are at wall: ',robot_position)\n",
        "                chosen_Act = reward_based_movement(robot_position,reward_space, actions) #reward_based_movement\n",
        "            elif chosen_Act == 'suck': \n",
        "                #print(actions)\n",
        "                chosen_Act = reward_based_movement(robot_position,reward_space, actions)\n",
        "                #print('cleaned: ', robot_position)\n",
        "            else: \n",
        "                chosen_Act = reward_based_movement(robot_position,reward_space, actions)\n",
        "                #print('else condition. pure reward based')\n",
        "            \n",
        "        \n",
        "        # act to the chosen action\n",
        "        if chosen_Act == 'east':\n",
        "            delta = [0,1]\n",
        "        if chosen_Act == 'west':\n",
        "            delta = [0,-1]\n",
        "        if chosen_Act == 'south':\n",
        "            delta = [1,0]  \n",
        "        if chosen_Act == 'suck':\n",
        "            delta = [0,0]\n",
        "        if chosen_Act == 'north':\n",
        "            delta = [-1,0]            \n",
        "        if chosen_Act == 'suck':\n",
        "            env[robot_position[0]][robot_position[1]]=0\n",
        "        else:\n",
        "            env=env\n",
        "\n",
        "        #if the environment is clean, break the loop.\n",
        "        #if not np.any(env):\n",
        "        if 1 not in env:\n",
        "            print('finished at iteration:', i+1,'steps')\n",
        "            break\n",
        "        \n",
        "        # Moving to new position\n",
        "        robot_position = robot_position + delta\n",
        "        robot_position_array.append(robot_position)\n",
        "        print('iteration')\n",
        "        print(i+1)\n",
        "        print(\"Reward Space\")\n",
        "        print(reward_space) \n",
        "        print(\"Environment\")\n",
        "        print(env)\n",
        "        \n",
        "    return i+1, reward_space          "
      ]
    },
    {
      "cell_type": "code",
      "source": [
        "n=7 \n",
        "bumpers = {\"north\" : False, \"east\" : False, \"south\" : False, \"west\" : False, \"dirt\" : False }\n",
        "robot_position = np.random.choice([i for i in range(1,n-1)], size=(1, 2))[0]\n",
        "robot_position = find_station(n,robot_position,1000000)\n",
        "modal_based_agent(n,robot_position, 10)"
      ],
      "metadata": {
        "colab": {
          "base_uri": "https://localhost:8080/"
        },
        "id": "6I-IKaaYQP5l",
        "outputId": "0c5ba076-c0d3-4a08-9abd-445b6cac0622"
      },
      "execution_count": null,
      "outputs": [
        {
          "output_type": "stream",
          "name": "stdout",
          "text": [
            "iteration\n",
            "1\n",
            "Reward Space\n",
            "[[0. 0. 0. 0. 0. 0. 0.]\n",
            " [0. 1. 0. 0. 0. 0. 0.]\n",
            " [0. 0. 0. 0. 0. 0. 0.]\n",
            " [0. 0. 0. 0. 0. 0. 0.]\n",
            " [0. 0. 0. 0. 0. 0. 0.]\n",
            " [0. 0. 0. 0. 0. 0. 0.]\n",
            " [0. 0. 0. 0. 0. 0. 0.]]\n",
            "Environment\n",
            "[[3 3 3 3 3 3 3]\n",
            " [3 0 1 0 1 0 3]\n",
            " [3 1 0 0 0 0 3]\n",
            " [3 0 0 1 0 1 3]\n",
            " [3 0 1 0 0 0 3]\n",
            " [3 0 0 0 0 0 3]\n",
            " [3 3 3 3 3 3 3]]\n",
            "iteration\n",
            "2\n",
            "Reward Space\n",
            "[[0. 0. 0. 0. 0. 0. 0.]\n",
            " [0. 1. 0. 0. 0. 0. 0.]\n",
            " [0. 1. 0. 0. 0. 0. 0.]\n",
            " [0. 0. 0. 0. 0. 0. 0.]\n",
            " [0. 0. 0. 0. 0. 0. 0.]\n",
            " [0. 0. 0. 0. 0. 0. 0.]\n",
            " [0. 0. 0. 0. 0. 0. 0.]]\n",
            "Environment\n",
            "[[3 3 3 3 3 3 3]\n",
            " [3 0 1 0 1 0 3]\n",
            " [3 0 0 0 0 0 3]\n",
            " [3 0 0 1 0 1 3]\n",
            " [3 0 1 0 0 0 3]\n",
            " [3 0 0 0 0 0 3]\n",
            " [3 3 3 3 3 3 3]]\n",
            "iteration\n",
            "3\n",
            "Reward Space\n",
            "[[0. 0. 0. 0. 0. 0. 0.]\n",
            " [0. 1. 0. 0. 0. 0. 0.]\n",
            " [0. 2. 0. 0. 0. 0. 0.]\n",
            " [0. 0. 0. 0. 0. 0. 0.]\n",
            " [0. 0. 0. 0. 0. 0. 0.]\n",
            " [0. 0. 0. 0. 0. 0. 0.]\n",
            " [0. 0. 0. 0. 0. 0. 0.]]\n",
            "Environment\n",
            "[[3 3 3 3 3 3 3]\n",
            " [3 0 1 0 1 0 3]\n",
            " [3 0 0 0 0 0 3]\n",
            " [3 0 0 1 0 1 3]\n",
            " [3 0 1 0 0 0 3]\n",
            " [3 0 0 0 0 0 3]\n",
            " [3 3 3 3 3 3 3]]\n",
            "iteration\n",
            "4\n",
            "Reward Space\n",
            "[[0. 0. 0. 0. 0. 0. 0.]\n",
            " [0. 1. 0. 0. 0. 0. 0.]\n",
            " [0. 2. 1. 0. 0. 0. 0.]\n",
            " [0. 0. 0. 0. 0. 0. 0.]\n",
            " [0. 0. 0. 0. 0. 0. 0.]\n",
            " [0. 0. 0. 0. 0. 0. 0.]\n",
            " [0. 0. 0. 0. 0. 0. 0.]]\n",
            "Environment\n",
            "[[3 3 3 3 3 3 3]\n",
            " [3 0 1 0 1 0 3]\n",
            " [3 0 0 0 0 0 3]\n",
            " [3 0 0 1 0 1 3]\n",
            " [3 0 1 0 0 0 3]\n",
            " [3 0 0 0 0 0 3]\n",
            " [3 3 3 3 3 3 3]]\n",
            "iteration\n",
            "5\n",
            "Reward Space\n",
            "[[0. 0. 0. 0. 0. 0. 0.]\n",
            " [0. 1. 1. 0. 0. 0. 0.]\n",
            " [0. 2. 1. 0. 0. 0. 0.]\n",
            " [0. 0. 0. 0. 0. 0. 0.]\n",
            " [0. 0. 0. 0. 0. 0. 0.]\n",
            " [0. 0. 0. 0. 0. 0. 0.]\n",
            " [0. 0. 0. 0. 0. 0. 0.]]\n",
            "Environment\n",
            "[[3 3 3 3 3 3 3]\n",
            " [3 0 0 0 1 0 3]\n",
            " [3 0 0 0 0 0 3]\n",
            " [3 0 0 1 0 1 3]\n",
            " [3 0 1 0 0 0 3]\n",
            " [3 0 0 0 0 0 3]\n",
            " [3 3 3 3 3 3 3]]\n",
            "iteration\n",
            "6\n",
            "Reward Space\n",
            "[[0. 0. 0. 0. 0. 0. 0.]\n",
            " [0. 1. 2. 0. 0. 0. 0.]\n",
            " [0. 2. 1. 0. 0. 0. 0.]\n",
            " [0. 0. 0. 0. 0. 0. 0.]\n",
            " [0. 0. 0. 0. 0. 0. 0.]\n",
            " [0. 0. 0. 0. 0. 0. 0.]\n",
            " [0. 0. 0. 0. 0. 0. 0.]]\n",
            "Environment\n",
            "[[3 3 3 3 3 3 3]\n",
            " [3 0 0 0 1 0 3]\n",
            " [3 0 0 0 0 0 3]\n",
            " [3 0 0 1 0 1 3]\n",
            " [3 0 1 0 0 0 3]\n",
            " [3 0 0 0 0 0 3]\n",
            " [3 3 3 3 3 3 3]]\n",
            "iteration\n",
            "7\n",
            "Reward Space\n",
            "[[0. 0. 0. 0. 0. 0. 0.]\n",
            " [0. 1. 2. 1. 0. 0. 0.]\n",
            " [0. 2. 1. 0. 0. 0. 0.]\n",
            " [0. 0. 0. 0. 0. 0. 0.]\n",
            " [0. 0. 0. 0. 0. 0. 0.]\n",
            " [0. 0. 0. 0. 0. 0. 0.]\n",
            " [0. 0. 0. 0. 0. 0. 0.]]\n",
            "Environment\n",
            "[[3 3 3 3 3 3 3]\n",
            " [3 0 0 0 1 0 3]\n",
            " [3 0 0 0 0 0 3]\n",
            " [3 0 0 1 0 1 3]\n",
            " [3 0 1 0 0 0 3]\n",
            " [3 0 0 0 0 0 3]\n",
            " [3 3 3 3 3 3 3]]\n",
            "iteration\n",
            "8\n",
            "Reward Space\n",
            "[[0. 0. 0. 0. 0. 0. 0.]\n",
            " [0. 1. 2. 1. 1. 0. 0.]\n",
            " [0. 2. 1. 0. 0. 0. 0.]\n",
            " [0. 0. 0. 0. 0. 0. 0.]\n",
            " [0. 0. 0. 0. 0. 0. 0.]\n",
            " [0. 0. 0. 0. 0. 0. 0.]\n",
            " [0. 0. 0. 0. 0. 0. 0.]]\n",
            "Environment\n",
            "[[3 3 3 3 3 3 3]\n",
            " [3 0 0 0 0 0 3]\n",
            " [3 0 0 0 0 0 3]\n",
            " [3 0 0 1 0 1 3]\n",
            " [3 0 1 0 0 0 3]\n",
            " [3 0 0 0 0 0 3]\n",
            " [3 3 3 3 3 3 3]]\n",
            "iteration\n",
            "9\n",
            "Reward Space\n",
            "[[0. 0. 0. 0. 0. 0. 0.]\n",
            " [0. 1. 2. 1. 2. 0. 0.]\n",
            " [0. 2. 1. 0. 0. 0. 0.]\n",
            " [0. 0. 0. 0. 0. 0. 0.]\n",
            " [0. 0. 0. 0. 0. 0. 0.]\n",
            " [0. 0. 0. 0. 0. 0. 0.]\n",
            " [0. 0. 0. 0. 0. 0. 0.]]\n",
            "Environment\n",
            "[[3 3 3 3 3 3 3]\n",
            " [3 0 0 0 0 0 3]\n",
            " [3 0 0 0 0 0 3]\n",
            " [3 0 0 1 0 1 3]\n",
            " [3 0 1 0 0 0 3]\n",
            " [3 0 0 0 0 0 3]\n",
            " [3 3 3 3 3 3 3]]\n",
            "iteration\n",
            "10\n",
            "Reward Space\n",
            "[[0. 0. 0. 0. 0. 0. 0.]\n",
            " [0. 1. 2. 1. 2. 1. 0.]\n",
            " [0. 2. 1. 0. 0. 0. 0.]\n",
            " [0. 0. 0. 0. 0. 0. 0.]\n",
            " [0. 0. 0. 0. 0. 0. 0.]\n",
            " [0. 0. 0. 0. 0. 0. 0.]\n",
            " [0. 0. 0. 0. 0. 0. 0.]]\n",
            "Environment\n",
            "[[3 3 3 3 3 3 3]\n",
            " [3 0 0 0 0 0 3]\n",
            " [3 0 0 0 0 0 3]\n",
            " [3 0 0 1 0 1 3]\n",
            " [3 0 1 0 0 0 3]\n",
            " [3 0 0 0 0 0 3]\n",
            " [3 3 3 3 3 3 3]]\n"
          ]
        },
        {
          "output_type": "execute_result",
          "data": {
            "text/plain": [
              "(10, array([[0., 0., 0., 0., 0., 0., 0.],\n",
              "        [0., 1., 2., 1., 2., 1., 0.],\n",
              "        [0., 2., 1., 0., 0., 0., 0.],\n",
              "        [0., 0., 0., 0., 0., 0., 0.],\n",
              "        [0., 0., 0., 0., 0., 0., 0.],\n",
              "        [0., 0., 0., 0., 0., 0., 0.],\n",
              "        [0., 0., 0., 0., 0., 0., 0.]]))"
            ]
          },
          "metadata": {},
          "execution_count": 51
        }
      ]
    },
    {
      "cell_type": "markdown",
      "metadata": {
        "id": "X93Mcmomh4mG"
      },
      "source": [
        "## Task 4: Simulation study [30 Points]\n",
        "\n",
        "Compare the performance (the performance measure is defined in the PEAS description above) of the agents using  environments of different size. E.g., $5 \\times 5$, $10 \\times 10$ and\n",
        "$100 \\times 100$. Use 100 random runs for each. Present the results using tables and graphs. Discuss the differences between the agents. \n",
        "([Help with charts and tables in Python](https://github.com/mhahsler/CS7320-AI/blob/master/Python_Code_Examples/charts_and_tables.ipynb))"
      ]
    },
    {
      "cell_type": "code",
      "execution_count": null,
      "metadata": {
        "id": "i5ksotImh4mH"
      },
      "outputs": [],
      "source": [
        "# Your code goes here"
      ]
    },
    {
      "cell_type": "code",
      "execution_count": null,
      "metadata": {
        "id": "eV8PML6cz-Kt"
      },
      "outputs": [],
      "source": [
        "import numpy as np"
      ]
    },
    {
      "cell_type": "markdown",
      "source": [
        "### Random agent"
      ],
      "metadata": {
        "id": "mr1dg76_0s6E"
      }
    },
    {
      "cell_type": "code",
      "source": [
        "#DEFINE SIMPLE ENVIRONMENT AGAIN WITHOUT PRINTING ANY VALUES\n",
        "def simple_environment(n,agent, max_steps, bumpers = {\"north\" : False, \"east\" : False, \"south\" : False, \"west\" : False, \"dirt\" : False }):\n",
        "    robot_position = np.random.choice([i for i in range(1,n-1)], size=(1, 2))[0]\n",
        "    environment=np.random.choice(2, size=(n, n), p=[0.8, 0.2])\n",
        "    environment[0] = [3 for i in range(n)]\n",
        "    environment[n-1] = [3 for i in range(n)]\n",
        "    environment[:,0] = [3 for i in range(n)]\n",
        "    environment[:,n-1]=[3 for i in range(n)]\n",
        "    #print(\"First Position of the robot:\")\n",
        "    #print(robot_position)\n",
        "    #print(robot_position)\n",
        "    # south_con, north_con, west_con, east_con = robot_position[0] == 4, \n",
        "    \n",
        "    for i in range(max_steps): \n",
        "      #define environmental obstacles. For this case, bumpers will only see the\n",
        "      #walls. Dirt sensor is also defined here.\n",
        "        if robot_position[0] == n-2: bumpers[\"south\"] = True\n",
        "        if robot_position[0] != n-2: bumpers[\"south\"] = False \n",
        "        if robot_position[1] == n-2: bumpers[\"east\"] = True\n",
        "        if robot_position[1] != n-2: bumpers[\"east\"] = False\n",
        "        if robot_position[1] == 1: bumpers[\"west\"] = True\n",
        "        if robot_position[1] != 1: bumpers[\"west\"] = False\n",
        "        if robot_position[0] == 1: bumpers[\"north\"] = True\n",
        "        if robot_position[0] != 1: bumpers[\"north\"] = False\n",
        "        if environment[robot_position[0]-1][robot_position[1]]==2:bumpers[\"north\"]=True\n",
        "        if environment[robot_position[0]][robot_position[1]+1]==2:bumpers[\"east\"]=True\n",
        "        if environment[robot_position[0]+1][robot_position[1]]==2:bumpers[\"south\"]=True\n",
        "        if environment[robot_position[0]][robot_position[1]-1]==2:bumpers[\"north\"]=True\n",
        "        delta, act = agent()\n",
        "        #print(robot_position, act)\n",
        "        if act=='suck':\n",
        "           environment[robot_position[0]][robot_position[1]]=0\n",
        "        else:\n",
        "           environment=environment\n",
        "        if (bumpers[\"north\"] == True) and (act == 'north'):\n",
        "            robot_position = robot_position\n",
        "        elif (bumpers[\"south\"] == True) and (act == 'south'):\n",
        "            robot_position = robot_position\n",
        "        elif (bumpers[\"east\"] == True) and (act == 'east'):\n",
        "            robot_position = robot_position \n",
        "        elif (bumpers[\"west\"] == True) and (act == 'west'):\n",
        "            robot_position = robot_position \n",
        "        else:\n",
        "            robot_position = robot_position + delta\n",
        "      \n",
        "        #print(\"Number of iteration:\")\n",
        "        #print(i+1)\n",
        "        #print(\"position of robot:\")\n",
        "        #print(robot_position)\n",
        "        #print(\"Action taken:\")\n",
        "        #print(act)\n",
        "        #print(\"Environment status after the action\")\n",
        "        #print(environment)\n",
        "        #print(bumpers)\n",
        "        #if the environment is clean, break the loop.\n",
        "        if 1 not in environment:\n",
        "            break\n",
        "\n",
        "    return i+1\n"
      ],
      "metadata": {
        "id": "06rYu9i80wkm"
      },
      "execution_count": null,
      "outputs": []
    },
    {
      "cell_type": "markdown",
      "source": [
        "5x5 Environment for Random Agent\n",
        "\n",
        "\n",
        "\n",
        "\n",
        "\n"
      ],
      "metadata": {
        "id": "EsKflWoS4D2z"
      }
    },
    {
      "cell_type": "code",
      "source": [
        "import matplotlib.pyplot as plt\n",
        "step_size_random=list()\n",
        "n=7\n",
        "for i in range(100):\n",
        "    step=simple_environment(n,simple_randomized_agent, max_steps = 1500)\n",
        "    #print(step)\n",
        "    step_size_random.append(step)\n",
        "step_size_reflex = [i for i in step_size_random if i < 999999999999999999]\n",
        "plt.hist(step_size_random, bins=5)\n",
        "plt.show()\n",
        "\n",
        "print('mean value for number of iterations:')\n",
        "np.mean(step_size_random)"
      ],
      "metadata": {
        "colab": {
          "base_uri": "https://localhost:8080/",
          "height": 300
        },
        "id": "eCKTNEwXpTfy",
        "outputId": "45bf4b37-ff89-4949-b533-c2d89a1338e9"
      },
      "execution_count": null,
      "outputs": [
        {
          "output_type": "display_data",
          "data": {
            "text/plain": [
              "<Figure size 432x288 with 1 Axes>"
            ],
            "image/png": "[encoded data removed]"
          },
          "metadata": {
            "needs_background": "light"
          }
        },
        {
          "output_type": "stream",
          "name": "stdout",
          "text": [
            "mean value for number of iterations:\n"
          ]
        },
        {
          "output_type": "execute_result",
          "data": {
            "text/plain": [
              "400.16"
            ]
          },
          "metadata": {},
          "execution_count": 24
        }
      ]
    },
    {
      "cell_type": "markdown",
      "source": [
        "10x10 Environment for Random Agent"
      ],
      "metadata": {
        "id": "pEvuGr0Q4Yip"
      }
    },
    {
      "cell_type": "code",
      "source": [
        "import matplotlib.pyplot as plt\n",
        "step_size_random=list()\n",
        "n=12\n",
        "for i in range(100):\n",
        "    step=simple_environment(n,simple_randomized_agent, max_steps = 100000)\n",
        "    #print(step)\n",
        "    step_size_random.append(step)\n",
        "step_size_reflex = [i for i in step_size_random if i < 999999999999999999]\n",
        "plt.hist(step_size_random, bins=5)\n",
        "plt.show()\n",
        "\n",
        "print('mean value for number of iterations:')\n",
        "np.mean(step_size_random)"
      ],
      "metadata": {
        "colab": {
          "base_uri": "https://localhost:8080/",
          "height": 300
        },
        "id": "FXOpVE8bnaXp",
        "outputId": "d3330ae8-0883-4279-e532-4b7746b1e539"
      },
      "execution_count": null,
      "outputs": [
        {
          "output_type": "display_data",
          "data": {
            "text/plain": [
              "<Figure size 432x288 with 1 Axes>"
            ],
            "image/png": "[encoded data removed]"
          },
          "metadata": {
            "needs_background": "light"
          }
        },
        {
          "output_type": "stream",
          "name": "stdout",
          "text": [
            "mean value for number of iterations:\n"
          ]
        },
        {
          "output_type": "execute_result",
          "data": {
            "text/plain": [
              "2982.32"
            ]
          },
          "metadata": {},
          "execution_count": 27
        }
      ]
    },
    {
      "cell_type": "markdown",
      "source": [
        "100x100 Environment for Random Agent"
      ],
      "metadata": {
        "id": "2xUtb8b54dO7"
      }
    },
    {
      "cell_type": "code",
      "source": [
        "import matplotlib.pyplot as plt\n",
        "step_size_random=list()\n",
        "n=102\n",
        "for i in range(100):\n",
        "    step=simple_environment(n,simple_randomized_agent, max_steps = 10000000)\n",
        "    #print(step)\n",
        "    step_size_random.append(step)\n",
        "step_size_reflex = [i for i in step_size_random if i < 999999999999999999]\n",
        "plt.hist(step_size_random, bins=5)\n",
        "plt.show()\n",
        "\n",
        "print('mean value for number of iterations:')\n",
        "np.mean(step_size_random)"
      ],
      "metadata": {
        "colab": {
          "base_uri": "https://localhost:8080/",
          "height": 316
        },
        "id": "uZyiqbJYoOfe",
        "outputId": "70d78dab-0cd3-45dd-d7e0-988f5d6546f3"
      },
      "execution_count": null,
      "outputs": [
        {
          "output_type": "display_data",
          "data": {
            "text/plain": [
              "<Figure size 432x288 with 1 Axes>"
            ],
            "image/png": "[encoded data removed]"
          },
          "metadata": {
            "needs_background": "light"
          }
        },
        {
          "output_type": "stream",
          "name": "stdout",
          "text": [
            "mean value for number of iterations:\n"
          ]
        },
        {
          "output_type": "execute_result",
          "data": {
            "text/plain": [
              "841031.62"
            ]
          },
          "metadata": {},
          "execution_count": 28
        }
      ]
    },
    {
      "cell_type": "markdown",
      "source": [
        "### SIMPLE ENVIRONMENT FOR REFLEX AGENT"
      ],
      "metadata": {
        "id": "hWJFJe0p0ocS"
      }
    },
    {
      "cell_type": "code",
      "execution_count": null,
      "metadata": {
        "id": "jJdnT8ItAUTq"
      },
      "outputs": [],
      "source": [
        "#SIMPLE ENVIRONMENT IS DEFINED AGAIN WITHOUT PRINTING ANY VALUES.\n",
        "def simple_environment_2(n,agent, max_steps, bumpers = {\"north\" : False, \"east\" : False, \"south\" : False, \"west\" : False, \"dirt\" : False }):\n",
        "    robot_position = np.random.choice([i for i in range(1,n-1)], size=(1, 2))[0]\n",
        "    environment=np.random.choice(2, size=(n, n), p=[0.8, 0.2])\n",
        "    environment[0] = [3 for i in range(n)]\n",
        "    environment[n-1] = [3 for i in range(n)]\n",
        "    environment[:,0] = [3 for i in range(n)]\n",
        "    environment[:,n-1]=[3 for i in range(n)]\n",
        "    #print(\"First Position of the robot:\")\n",
        "    #print(robot_position)\n",
        "  #print(robot_position)\n",
        "   # south_con, north_con, west_con, east_con = robot_position[0] == 4, \n",
        "    \n",
        "    for i in range(max_steps): \n",
        "      #define environmental obstacles. For this case, bumpers will only see the\n",
        "      #walls. Dirt sensor is also defined here.\n",
        "        #reward_space[robot_position[0]+1][robot_position[1]+1]=reward_space[robot_position[0]][robot_position[1]]+1\n",
        "        if robot_position[0] == n-2: bumpers[\"south\"] = True\n",
        "        if robot_position[0] != n-2: bumpers[\"south\"] = False \n",
        "        if robot_position[1] == n-2: bumpers[\"east\"] = True\n",
        "        if robot_position[1] != n-2: bumpers[\"east\"] = False\n",
        "        if robot_position[1] == 1: bumpers[\"west\"] = True\n",
        "        if robot_position[1] != 1: bumpers[\"west\"] = False\n",
        "        if robot_position[0] == 1: bumpers[\"north\"] = True\n",
        "        if robot_position[0] != 1: bumpers[\"north\"] = False\n",
        "        if environment[robot_position[0]-1][robot_position[1]]==2:bumpers[\"north\"]=True\n",
        "        if environment[robot_position[0]][robot_position[1]+1]==2:bumpers[\"east\"]=True\n",
        "        if environment[robot_position[0]+1][robot_position[1]]==2:bumpers[\"south\"]=True\n",
        "        if environment[robot_position[0]][robot_position[1]-1]==2:bumpers[\"north\"]=True\n",
        "\n",
        "\n",
        "        if environment[robot_position[0]][robot_position[1]]==1: bumpers[\"dirt\"]=True\n",
        "        if environment[robot_position[0]][robot_position[1]]==0: bumpers[\"dirt\"]=False\n",
        "        act = agent(bumpers)\n",
        "        if act == 'east':\n",
        "          delta = [0,1]\n",
        "        if act == 'west':\n",
        "          delta = [0,-1]\n",
        "        if act == 'south':\n",
        "          delta = [1,0]  \n",
        "        if act == 'suck':\n",
        "          delta = [0,0]\n",
        "        if act == 'north':\n",
        "          delta = [-1,0]\n",
        "        #print(robot_position, act)\n",
        "        if act=='suck':\n",
        "           environment[robot_position[0]][robot_position[1]]=0\n",
        "        else:\n",
        "           environment=environment\n",
        "        if (bumpers[\"north\"] == True) and (act == 'north'):\n",
        "            robot_position = robot_position\n",
        "        elif (bumpers[\"south\"] == True) and (act == 'south'):\n",
        "            robot_position = robot_position\n",
        "        elif (bumpers[\"east\"] == True) and (act == 'east'):\n",
        "            robot_position = robot_position \n",
        "        elif (bumpers[\"west\"] == True) and (act == 'west'):\n",
        "            robot_position = robot_position \n",
        "        else:\n",
        "            robot_position = robot_position + delta\n",
        "      \n",
        "        #print(\"Number of iteration:\")\n",
        "        #print(i+1)\n",
        "        #print(bumpers)\n",
        "        #print(\"Action taken:\")\n",
        "        #print(act)\n",
        "        #print(\"position of robot:\")\n",
        "        #print(robot_position)\n",
        "        #print(\"Environment status after the action\")\n",
        "        #print(environment)\n",
        "        \n",
        "        #print(reward_space)\n",
        "        #if the environment is clean, break the loop.\n",
        "        if 1 not in environment:\n",
        "            break\n",
        "        \n",
        "    return i+1"
      ]
    },
    {
      "cell_type": "code",
      "source": [],
      "metadata": {
        "id": "8JOFHNI-eLe_"
      },
      "execution_count": null,
      "outputs": []
    },
    {
      "cell_type": "markdown",
      "metadata": {
        "id": "hn3V6ClihNQi"
      },
      "source": [
        "CODE BELOW RETURNS THE NUMBER OF ITERATION NEEDED FOR ROBOT CLEAN THE ENVIRONMENT. "
      ]
    },
    {
      "cell_type": "code",
      "execution_count": null,
      "metadata": {
        "colab": {
          "base_uri": "https://localhost:8080/"
        },
        "id": "7yTcU5SyDqEj",
        "outputId": "6bfe8fb2-b0e1-447b-91b5-745f377ac2c4"
      },
      "outputs": [
        {
          "data": {
            "text/plain": [
              "72"
            ]
          },
          "execution_count": 77,
          "metadata": {},
          "output_type": "execute_result"
        }
      ],
      "source": [
        "import numpy as np\n",
        "n=7\n",
        "simple_environment_2(n,simple_agent, max_steps = 500)\n"
      ]
    },
    {
      "cell_type": "markdown",
      "source": [
        "Simple Reflex Agent 5X5 Environment"
      ],
      "metadata": {
        "id": "QZ0tOLRSiHcz"
      }
    },
    {
      "cell_type": "code",
      "execution_count": null,
      "metadata": {
        "id": "BIkjYigChNQk",
        "outputId": "2169bfe4-5785-4a01-879d-85090eee0f08"
      },
      "outputs": [
        {
          "data": {
            "image/png": "[encoded data removed]",
            "text/plain": [
              "<Figure size 640x480 with 1 Axes>"
            ]
          },
          "metadata": {},
          "output_type": "display_data"
        },
        {
          "name": "stdout",
          "output_type": "stream",
          "text": [
            "mean value for number of iterations:\n"
          ]
        },
        {
          "data": {
            "text/plain": [
              "114.2"
            ]
          },
          "execution_count": 71,
          "metadata": {},
          "output_type": "execute_result"
        }
      ],
      "source": [
        "import matplotlib.pyplot as plt\n",
        "step_size=list()\n",
        "n=7\n",
        "for i in range(100):\n",
        "    step=simple_environment_2(n,simple_agent, max_steps = 500)\n",
        "    #print(step)\n",
        "    step_size.append(step)\n",
        "step_size_reflex = [i for i in step_size if i < 999999999999999999]\n",
        "plt.hist(step_size, bins=5)\n",
        "plt.show()\n",
        "\n",
        "print('mean value for number of iterations:')\n",
        "np.mean(step_size)"
      ]
    },
    {
      "cell_type": "markdown",
      "source": [
        "Simple Reflex Agent 10x10 Environment"
      ],
      "metadata": {
        "id": "KjmNhgjFiPXv"
      }
    },
    {
      "cell_type": "code",
      "execution_count": null,
      "metadata": {
        "id": "G6_NhN42hNQm",
        "outputId": "5975b852-aa01-4863-9e5a-116e3a9fcd4d"
      },
      "outputs": [
        {
          "data": {
            "image/png": "[encoded data removed]",
            "text/plain": [
              "<Figure size 640x480 with 1 Axes>"
            ]
          },
          "metadata": {},
          "output_type": "display_data"
        },
        {
          "name": "stdout",
          "output_type": "stream",
          "text": [
            "mean value for number of iterations:\n"
          ]
        },
        {
          "data": {
            "text/plain": [
              "958.23"
            ]
          },
          "execution_count": 80,
          "metadata": {},
          "output_type": "execute_result"
        }
      ],
      "source": [
        "import matplotlib.pyplot as plt\n",
        "step_size=list()\n",
        "n=12\n",
        "for i in range(100):\n",
        "    step=simple_environment_2(n,simple_agent, max_steps = 3000)\n",
        "    #print(step)\n",
        "    step_size.append(step)\n",
        "step_size_reflex = [i for i in step_size if i < 999999999999999999]\n",
        "plt.hist(step_size, bins=5)\n",
        "plt.show()\n",
        "\n",
        "print('mean value for number of iterations:')\n",
        "np.mean(step_size)"
      ]
    },
    {
      "cell_type": "markdown",
      "source": [
        "Simple Reflex Agent 100x100 Environment"
      ],
      "metadata": {
        "id": "g7DrZwhgiVPU"
      }
    },
    {
      "cell_type": "code",
      "source": [],
      "metadata": {
        "id": "Dl4FkPmKM-uf"
      },
      "execution_count": null,
      "outputs": []
    },
    {
      "cell_type": "code",
      "execution_count": null,
      "metadata": {
        "id": "_0cMzmaEjN5Z",
        "outputId": "27a1cee4-f862-44b9-a47f-dbaf4321373f"
      },
      "outputs": [
        {
          "data": {
            "image/png": "[encoded data removed]",
            "text/plain": [
              "<Figure size 640x480 with 1 Axes>"
            ]
          },
          "metadata": {},
          "output_type": "display_data"
        },
        {
          "name": "stdout",
          "output_type": "stream",
          "text": [
            "mean value for number of iterations:\n"
          ]
        },
        {
          "data": {
            "text/plain": [
              "349550.73"
            ]
          },
          "execution_count": 81,
          "metadata": {},
          "output_type": "execute_result"
        }
      ],
      "source": [
        "import matplotlib.pyplot as plt\n",
        "step_size=list()\n",
        "n=102\n",
        "for i in range(100):\n",
        "    step=simple_environment_2(n,simple_agent, max_steps = 1000000)\n",
        "    #print(step)\n",
        "    step_size.append(step)\n",
        "step_size_reflex = [i for i in step_size if i < 1000000]\n",
        "plt.hist(step_size, bins=5)\n",
        "plt.show()\n",
        "\n",
        "print('mean value for number of iterations:')\n",
        "np.mean(step_size)"
      ]
    },
    {
      "cell_type": "markdown",
      "source": [
        "### Model Based Agent"
      ],
      "metadata": {
        "id": "GfykG-cC2MMh"
      }
    },
    {
      "cell_type": "markdown",
      "metadata": {
        "id": "daccb44e-9d5f-45fb-9b1a-d8d4820f755f"
      },
      "source": [
        "## model based without obstacle 5x5 environment:"
      ]
    },
    {
      "cell_type": "code",
      "execution_count": null,
      "metadata": {
        "id": "d1b1d18c-110a-416d-8154-3c8e47d6a980"
      },
      "outputs": [],
      "source": [
        "import numpy as np"
      ]
    },
    {
      "cell_type": "code",
      "execution_count": null,
      "metadata": {
        "id": "e5b81cb0-2cfb-4139-824a-2645d3519edc"
      },
      "outputs": [],
      "source": [
        "# Your code and description goes here\n",
        "\n",
        "def find_station(n,robot_position,max_steps):\n",
        "    chosen_Act = 'north'\n",
        "    for i in range(max_steps):\n",
        "        # sensors sensing\n",
        "        if robot_position[0] == n-2: bumpers[\"south\"] = True\n",
        "        if robot_position[0] != n-2: bumpers[\"south\"] = False \n",
        "        if robot_position[1] == n-2: bumpers[\"east\"] = True\n",
        "        if robot_position[1] != n-2: bumpers[\"east\"] = False\n",
        "        if robot_position[1] == 1: bumpers[\"west\"] = True\n",
        "        if robot_position[1] != 1: bumpers[\"west\"] = False\n",
        "        if robot_position[0] == 1: bumpers[\"north\"] = True\n",
        "        if robot_position[0] != 1: bumpers[\"north\"] = False\n",
        "        # rationalizing action\n",
        "        if bumpers[chosen_Act] == True: \n",
        "            chosen_Act = 'west' \n",
        "        else: \n",
        "            chosen_Act = chosen_Act\n",
        "        if bumpers[chosen_Act] == True:\n",
        "            #print('arrived at north-west corner')\n",
        "            #print('saving position as (0,0) to memory')\n",
        "            memory_position = robot_position\n",
        "            break\n",
        "        # act upon chosen action\n",
        "        if chosen_Act == 'east':\n",
        "            delta = [0,1]\n",
        "        if chosen_Act == 'west':\n",
        "            delta = [0,-1]\n",
        "        if chosen_Act == 'south':\n",
        "            delta = [1,0]  \n",
        "        if chosen_Act == 'suck':\n",
        "            delta = [0,0]\n",
        "        if chosen_Act == 'north':\n",
        "            delta = [-1,0]         \n",
        "        # changed position\n",
        "        robot_position = robot_position + delta\n",
        "        #print(robot_position)\n",
        "    return robot_position\n",
        "\n",
        "#env = np.random.choice(2, size=(n-2, n-2), p=[0.8, 0.2])\n",
        "\n",
        "def reward_based_movement(robot_position, reward_space, actions):\n",
        "    # put this after possible actions are determined by bumpers!\n",
        "    # robot_position = [0, 0]\n",
        "    # actions = {\"east\" : [0,1], \"south\" : [1,0]}\n",
        "    p_pos, p_reward = list(), list()\n",
        "    p_delta = [j for i,j in actions.items()]\n",
        "    for i in range(len(p_delta)):\n",
        "        p_pos.append(np.array(robot_position) + p_delta[i])\n",
        "        p_reward.append(reward_space[p_pos[-1][0]][p_pos[-1][1]])\n",
        "    idx = p_reward.index(min(p_reward)) # find index of the low reward direction\n",
        "    act = list(actions.keys())[idx]\n",
        "    #print(chosen_Act) \n",
        "    #print(reward_space)\n",
        "    return act\n",
        "\n",
        "def modal_based_agent(n, robot_position, max_steps):\n",
        "    #env = np.random.choice(3, size=(7, 7), p=[0.8, 0.2])\n",
        "    env=np.random.choice(3, size=(n, n), p=[0.75, 0.2, 0.05])\n",
        "    env[0] = [3 for i in range(n)]\n",
        "    env[n-1] = [3 for i in range(n)]\n",
        "    env[:,0] = [3 for i in range(n)]\n",
        "    env[:,n-1]=[3 for i in range(n)]\n",
        "    robot_position_array = list()\n",
        "    reward_space = np.zeros(shape = (n,n))\n",
        "    #print('This is the environment matrix:')\n",
        "    #print(env)\n",
        "    for i in range(max_steps):\n",
        "        # return back all possiblities.\n",
        "        actions = {\"north\" : [-1,0] , \"east\": [0,1], \"west\" : [0,-1], \"south\" : [1, 0]}\n",
        "        reward_space[robot_position[0]][robot_position[1]]=reward_space[robot_position[0]][robot_position[1]]+1\n",
        "        #print(robot_position)\n",
        "        # sensors sensing\n",
        "        if robot_position[0] == n-2: bumpers[\"south\"] = True\n",
        "        if robot_position[0] != n-2: bumpers[\"south\"] = False \n",
        "        if robot_position[1] == n-2: bumpers[\"east\"] = True\n",
        "        if robot_position[1] != n-2: bumpers[\"east\"] = False\n",
        "        if robot_position[1] == 1: bumpers[\"west\"] = True\n",
        "        if robot_position[1] != 1: bumpers[\"west\"] = False\n",
        "        if robot_position[0] == 1: bumpers[\"north\"] = True\n",
        "        if robot_position[0] != 1: bumpers[\"north\"] = False\n",
        "\n",
        "       \n",
        "        # Obstacle func.  \n",
        "        if env[robot_position[0]-1][robot_position[1]]==2:bumpers[\"north\"]=True\n",
        "        if env[robot_position[0]][robot_position[1]+1]==2:bumpers[\"east\"]=True\n",
        "        if env[robot_position[0]+1][robot_position[1]]==2:bumpers[\"south\"]=True\n",
        "        if env[robot_position[0]][robot_position[1]-1]==2:bumpers[\"west\"]=True\n",
        "        if env[robot_position[0]][robot_position[1]]==1: bumpers[\"suck\"]=True\n",
        "        if env[robot_position[0]][robot_position[1]]==0: bumpers[\"suck\"]=False\n",
        "        #if env[robot_position[0]][robot_position[1]]==2:bumpers[\"north\"]=True\n",
        "        #if env[robot_position[0]][robot_position[1]]==2:bumpers[\"east\"]=True\n",
        "        #if env[robot_position[0]][robot_position[1]]==2:bumpers[\"south\"]=True\n",
        "        #if env[robot_position[0]][robot_position[1]]==2:bumpers[\"north\"]=True\n",
        "        #if env[robot_position[0]][robot_position[1]]==1: bumpers[\"suck\"]=True\n",
        "        #if env[robot_position[0]][robot_position[1]]==0: bumpers[\"suck\"]=False\n",
        "        \n",
        "        # eliminate irrational choices to determine the action: # POSSIBLE ERROR: it can't remove the same thing twice.        \n",
        "        if bumpers[\"suck\"] == True: \n",
        "            chosen_Act = 'suck'\n",
        "            #print('sucking')\n",
        "        else:\n",
        "            if bumpers['south'] ==  True: del actions['south']  # actions.remove('south')\n",
        "            if bumpers['east'] ==  True:  del actions['east']   # actions.remove('east')\n",
        "            if bumpers['west'] ==  True:  del actions['west']   # actions.remove('west')\n",
        "            if bumpers['north'] ==  True: del actions['north']  # actions.remove('north')\n",
        "        \n",
        "        # Choosing rational action        \n",
        "            if i == 0: \n",
        "                chosen_Act = np.random.choice(list(actions.keys()))\n",
        "                #print('first step')  # first action is total random chosen from possible paths.\n",
        "            elif bumpers[chosen_Act] == True: \n",
        "                #print('we are at wall: ',robot_position)\n",
        "                chosen_Act = reward_based_movement(robot_position,reward_space, actions) #reward_based_movement\n",
        "            elif chosen_Act == 'suck': \n",
        "                #print(actions)\n",
        "                chosen_Act = reward_based_movement(robot_position,reward_space, actions)\n",
        "                #print('cleaned: ', robot_position)\n",
        "            else: \n",
        "                chosen_Act = reward_based_movement(robot_position,reward_space, actions)\n",
        "                #print('else condition. pure reward based')\n",
        "            \n",
        "        \n",
        "        # act upon chosen action\n",
        "        if chosen_Act == 'east':\n",
        "            delta = [0,1]\n",
        "        if chosen_Act == 'west':\n",
        "            delta = [0,-1]\n",
        "        if chosen_Act == 'south':\n",
        "            delta = [1,0]  \n",
        "        if chosen_Act == 'suck':\n",
        "            delta = [0,0]\n",
        "        if chosen_Act == 'north':\n",
        "            delta = [-1,0]            \n",
        "        if chosen_Act == 'suck':\n",
        "            env[robot_position[0]][robot_position[1]]=0\n",
        "        else:\n",
        "            env=env\n",
        "\n",
        "        #if the environment is clean, break the loop.\n",
        "        #if not np.any(env):\n",
        "        if 1 not in env:\n",
        "            #print('done after:', i+1,'steps')\n",
        "            break\n",
        "        \n",
        "        # Moving to new position\n",
        "        robot_position = robot_position + delta\n",
        "        robot_position_array.append(robot_position)\n",
        "        #print(reward_space) \n",
        "        \n",
        "    return i+1, reward_space          \n",
        "\n",
        "def environment(n):\n",
        "    env = np.random.choice(2, size=(n, n), p=[0.8, 0.2])\n",
        "    pass"
      ]
    },
    {
      "cell_type": "code",
      "execution_count": null,
      "metadata": {
        "colab": {
          "base_uri": "https://localhost:8080/",
          "height": 303
        },
        "id": "a1962432-3868-4df6-a6fd-e8f7380e9c0a",
        "outputId": "883c2d19-afcc-4a79-99bb-8dcb11ca7137"
      },
      "outputs": [
        {
          "output_type": "display_data",
          "data": {
            "text/plain": [
              "<Figure size 432x288 with 1 Axes>"
            ],
            "image/png": "[encoded data removed]"
          },
          "metadata": {
            "needs_background": "light"
          }
        },
        {
          "output_type": "stream",
          "name": "stdout",
          "text": [
            "mean value for number of iterations:\n"
          ]
        },
        {
          "output_type": "execute_result",
          "data": {
            "text/plain": [
              "28.71"
            ]
          },
          "metadata": {},
          "execution_count": 9
        }
      ],
      "source": [
        "import matplotlib.pyplot as plt\n",
        "step_size = list()\n",
        "for i in range(100):\n",
        "    n = 7\n",
        "    robot_position = np.random.choice([i for i in range(1,n-1)], size=(1, 2))[0]\n",
        "    robot_position = find_station(n,robot_position,1000000)\n",
        "    step,_ =modal_based_agent(n,robot_position, 1000000)\n",
        "    step_size.append(step)\n",
        "step_size = [i for i in step_size if i < 999999999]\n",
        "plt.hist(step_size, bins=5)\n",
        "plt.show()\n",
        "\n",
        "print('mean value for number of iterations:')\n",
        "np.mean(step_size)\n",
        "    "
      ]
    },
    {
      "cell_type": "markdown",
      "source": [
        "## model based without obstacle, 10x10 environment"
      ],
      "metadata": {
        "id": "YvXIlM5-P5gb"
      }
    },
    {
      "cell_type": "code",
      "execution_count": null,
      "metadata": {
        "colab": {
          "base_uri": "https://localhost:8080/",
          "height": 301
        },
        "outputId": "e9b88bb5-643c-48cb-bde7-e65c6ac76745",
        "id": "YPwo68xxQQlh"
      },
      "outputs": [
        {
          "output_type": "display_data",
          "data": {
            "text/plain": [
              "<Figure size 432x288 with 1 Axes>"
            ],
            "image/png": "[encoded data removed]"
          },
          "metadata": {
            "needs_background": "light"
          }
        },
        {
          "output_type": "stream",
          "name": "stdout",
          "text": [
            "mean value for number of iterations:\n"
          ]
        },
        {
          "output_type": "execute_result",
          "data": {
            "text/plain": [
              "216.36"
            ]
          },
          "metadata": {},
          "execution_count": 13
        }
      ],
      "source": [
        "import matplotlib.pyplot as plt\n",
        "step_size = list()\n",
        "for i in range(100):\n",
        "    n = 12\n",
        "    robot_position = np.random.choice([i for i in range(1,n-1)], size=(1, 2))[0]\n",
        "    robot_position = find_station(n,robot_position,1000000)\n",
        "    step,_ =modal_based_agent(n,robot_position, 1000000)\n",
        "    step_size.append(step)\n",
        "step_size = [i for i in step_size if i < 999999999]\n",
        "plt.hist(step_size, bins=5)\n",
        "plt.show()\n",
        "\n",
        "print('mean value for number of iterations:')\n",
        "np.mean(step_size)\n",
        "    "
      ]
    },
    {
      "cell_type": "markdown",
      "source": [
        "## Model Based 100x100 environment"
      ],
      "metadata": {
        "id": "4wgR-HwuU683"
      }
    },
    {
      "cell_type": "code",
      "execution_count": null,
      "metadata": {
        "colab": {
          "base_uri": "https://localhost:8080/",
          "height": 300
        },
        "outputId": "55432558-6f09-47a3-e912-fb7af0fb117a",
        "id": "mr4RyMv4QkmN"
      },
      "outputs": [
        {
          "output_type": "display_data",
          "data": {
            "text/plain": [
              "<Figure size 432x288 with 1 Axes>"
            ],
            "image/png": "[encoded data removed]"
          },
          "metadata": {
            "needs_background": "light"
          }
        },
        {
          "output_type": "stream",
          "name": "stdout",
          "text": [
            "mean value for number of iterations:\n"
          ]
        },
        {
          "output_type": "execute_result",
          "data": {
            "text/plain": [
              "235830.375"
            ]
          },
          "metadata": {},
          "execution_count": 20
        }
      ],
      "source": [
        "import matplotlib.pyplot as plt\n",
        "step_size = list()\n",
        "for i in range(100):\n",
        "    n = 102\n",
        "    robot_position = np.random.choice([i for i in range(1,n-1)], size=(1, 2))[0]\n",
        "    robot_position = find_station(n,robot_position,1000000)\n",
        "    step,_ =modal_based_agent(n,robot_position, 1000000)\n",
        "    step_size.append(step)\n",
        "step_size = [i for i in step_size if i < 500000]\n",
        "plt.hist(step_size, bins=5)\n",
        "plt.show()\n",
        "\n",
        "print('mean value for number of iterations:')\n",
        "np.mean(step_size)\n",
        "    "
      ]
    },
    {
      "cell_type": "markdown",
      "metadata": {
        "id": "VRPeEiY2h4mH"
      },
      "source": [
        "Fill out the following table with the average performance measure for 100 random runs (you may also create this table with code):\n",
        "\n",
        "| Size     | Randomized Agent | Simple Reflex Agent | Model-based Reflex Agent |\n",
        "|----------|------------------|---------------------|--------------------------|\n",
        "| 5x5     |400.16 |114.2 |28.71|\n",
        "| 10x10   |2982.32 |958.23 |216.36 |\n",
        "| 100x100 |841031.62 |349550.73 |235830.375 |\n"
      ]
    },
    {
      "cell_type": "code",
      "source": [],
      "metadata": {
        "id": "vmhdxI1TezIr"
      },
      "execution_count": null,
      "outputs": []
    },
    {
      "cell_type": "code",
      "source": [
        "import matplotlib.pyplot as plt\n",
        "step_size_random=list()\n",
        "n=7\n",
        "for i in range(100):\n",
        "    step=simple_environment(n,simple_randomized_agent, max_steps = 1500)\n",
        "    #print(step)\n",
        "    step_size_random.append(step)\n",
        "step_size_reflex = [i for i in step_size_random if i < 999999999999999999]\n",
        "#plt.hist(step_size_random, bins=5)\n",
        "#plt.show()\n",
        "\n",
        "#print('mean value for number of iterations:')\n",
        "#np.mean(step_size_random)"
      ],
      "metadata": {
        "id": "Hb_kFwJYezXA"
      },
      "execution_count": null,
      "outputs": []
    },
    {
      "cell_type": "code",
      "execution_count": null,
      "metadata": {
        "id": "eFQDlFPAezXC"
      },
      "outputs": [],
      "source": [
        "import matplotlib.pyplot as plt\n",
        "step_size_reflex=list()\n",
        "n=7\n",
        "for i in range(100):\n",
        "    step=simple_environment_2(n,simple_agent, max_steps = 500)\n",
        "    #print(step)\n",
        "    step_size_reflex.append(step)\n",
        "step_size_reflex = [i for i in step_size_reflex if i < 999999999999999999]\n",
        "#plt.hist(step_size, bins=5)\n",
        "#plt.show()\n",
        "\n",
        "#print('mean value for number of iterations:')\n"
      ]
    },
    {
      "cell_type": "code",
      "execution_count": null,
      "metadata": {
        "id": "ooomT4kPezXC"
      },
      "outputs": [],
      "source": [
        "import matplotlib.pyplot as plt\n",
        "step_size = list()\n",
        "for i in range(100):\n",
        "    bumpers = {\"north\" : False, \"east\" : False, \"south\" : False, \"west\" : False, \"suck\" : False }\n",
        "    n = 7\n",
        "    robot_position = np.random.choice([i for i in range(1,n-1)], size=(1, 2))[0]\n",
        "    robot_position = find_station(n,robot_position,1000000)\n",
        "    step,_ =modal_based_agent(n,robot_position, 1000000)\n",
        "    step_size.append(step)\n",
        "step_size = [i for i in step_size if i < 1000]\n",
        "#plt.hist(step_size, bins=5)\n",
        "#plt.show()\n",
        "\n",
        "#print('mean value for number of iterations:')\n",
        "#np.mean(step_size)\n",
        "    "
      ]
    },
    {
      "cell_type": "code",
      "source": [
        "plt.hist(step_size, bins=10)\n",
        "plt.hist(step_size_reflex, bins=10)\n",
        "plt.hist(step_size_random, bins=10)\n"
      ],
      "metadata": {
        "colab": {
          "base_uri": "https://localhost:8080/",
          "height": 352
        },
        "id": "AJRO8Abja-ma",
        "outputId": "18a234d8-8c7c-4422-c133-3559dbb24224"
      },
      "execution_count": null,
      "outputs": [
        {
          "output_type": "execute_result",
          "data": {
            "text/plain": [
              "(array([ 7., 19., 31., 16., 13.,  7.,  4.,  1.,  1.,  1.]),\n",
              " array([1.0000e+00, 1.4630e+02, 2.9160e+02, 4.3690e+02, 5.8220e+02,\n",
              "        7.2750e+02, 8.7280e+02, 1.0181e+03, 1.1634e+03, 1.3087e+03,\n",
              "        1.4540e+03]),\n",
              " <a list of 10 Patch objects>)"
            ]
          },
          "metadata": {},
          "execution_count": 33
        },
        {
          "output_type": "display_data",
          "data": {
            "text/plain": [
              "<Figure size 432x288 with 1 Axes>"
            ],
            "image/png": "[encoded data removed]"
          },
          "metadata": {
            "needs_background": "light"
          }
        }
      ]
    },
    {
      "cell_type": "code",
      "source": [
        "import seaborn as sns"
      ],
      "metadata": {
        "id": "LE-2xh_GdC1A"
      },
      "execution_count": null,
      "outputs": []
    },
    {
      "cell_type": "code",
      "source": [
        "sns.kdeplot(step_size_random)\n",
        "sns.kdeplot(step_size)\n",
        "sns.kdeplot(step_size_reflex)"
      ],
      "metadata": {
        "colab": {
          "base_uri": "https://localhost:8080/",
          "height": 282
        },
        "id": "0LHHXHJrdpVQ",
        "outputId": "8e1c8366-ff80-4b47-bb65-586562a1f6b3"
      },
      "execution_count": null,
      "outputs": [
        {
          "output_type": "execute_result",
          "data": {
            "text/plain": [
              "<matplotlib.axes._subplots.AxesSubplot at 0x7f553a426a90>"
            ]
          },
          "metadata": {},
          "execution_count": 36
        },
        {
          "output_type": "display_data",
          "data": {
            "text/plain": [
              "<Figure size 432x288 with 1 Axes>"
            ],
            "image/png": "[encoded data removed]"
          },
          "metadata": {
            "needs_background": "light"
          }
        }
      ]
    },
    {
      "cell_type": "markdown",
      "metadata": {
        "id": "Ry2_-1z7h4mH"
      },
      "source": [
        "## Task 5: Robustness of the agent implementations [10 Points] \n",
        "\n",
        "Describe how **your agent implementations** will perform \n",
        "\n",
        "* if it is put into a rectangular room with unknown size, \n",
        "* if the cleaning area can have an iregular shape (e.g., a hallway connecting two rooms), or \n",
        "* if the room contains obstacles (i.e., squares that it cannot pass through and trigger the bumper sensors)."
      ]
    },
    {
      "cell_type": "markdown",
      "source": [
        " \n",
        "**Discussion**\n",
        "\n",
        "Performance of random agent will be extremely poor as expected.\n",
        "Simple agent will perform better since it can understand if there is a wall in its neighbor or dirt in its location. However, the movement is still random.\n",
        "We can expect higly poor performances for these 2 models.\n",
        "\n",
        "Model based agent will perform better since it knows where it is and assigns a negative reward value to the locations it has been before. It will dramatically increase performance the performance. \n",
        "\n",
        "An algorithm can be written so that robot first walks through the wall. Let's consider a L shape room. When moving with the wall, wall can disappear suddenly.In this case, rather than random or memory oriented action, agent can go throgh the previous wall direction. With this, robot can go through all the walls of the environment.\n",
        "\n",
        "\n",
        "Obstacle case will be investigated right below:\n",
        "\n",
        "\n",
        "One thing to consider is also when adding random obstacles and random robot position, robot can't decide where to go an exit with an error. We can add an actions such as \"stop\" so that robot close itself if there is no available actions."
      ],
      "metadata": {
        "id": "a-UcxlnT5JAX"
      }
    },
    {
      "cell_type": "markdown",
      "metadata": {
        "id": "8gYonBtjh4mH"
      },
      "source": [
        "## Graduate student advanced task: Obstacles [10 Points]\n",
        "\n",
        "__Undergraduate students:__ This is a bonus task you can attempt if you like [+5 Bonus Points].\n",
        "\n",
        "1. Change your simulation environment tor run experiments for the following problem: Add random obstacle squares that also trigger the bumper sensor. The agent does not know where the obstacles are. Observe how this changes the performance of the three implementations.\n",
        "\n",
        "2. Describe what would need to be done to perform better with obstacles. Add code if you can. "
      ]
    },
    {
      "cell_type": "markdown",
      "source": [
        "**RANDOM AGENT WITH OBSTACLE**\n",
        "\n",
        "I changed how the environment array is defined and add values (2). They represent the obstacles"
      ],
      "metadata": {
        "id": "pNZFGEqkA49I"
      }
    },
    {
      "cell_type": "code",
      "execution_count": null,
      "metadata": {
        "id": "SfLWbEnHA89k"
      },
      "outputs": [],
      "source": [
        "import numpy as np\n",
        "\n",
        "#delta represents the displacement value. for every action, displacement value is changed\n",
        "\n",
        "def simple_randomized_agent():\n",
        "    actions = [\"north\", \"east\", \"west\", \"south\", \"suck\"]\n",
        "    chosen_Act = np.random.choice(actions)\n",
        "    if chosen_Act == 'north':\n",
        "        delta = [-1,0]\n",
        "    if chosen_Act == 'east':\n",
        "        delta = [0,1]\n",
        "    if chosen_Act == 'west':\n",
        "        delta = [0,-1]\n",
        "    if chosen_Act == 'south':\n",
        "        delta = [1,0]  \n",
        "    if chosen_Act == 'suck':\n",
        "        delta = [0,0]\n",
        "    return np.array(delta), chosen_Act\n",
        "    \n",
        "def simple_environment(n,agent, max_steps, bumpers = {\"north\" : False, \"east\" : False, \"south\" : False, \"west\" : False, \"dirt\" : False }):\n",
        "    robot_position = np.random.choice([i for i in range(1,n-1)], size=(1, 2))[0]\n",
        "    environment=np.random.choice(3, size=(n, n), p=[0.7, 0.2, 0.1])\n",
        "    #value 2 should be replaced to 3 if there is any obstacle in the environment and another possibility value should be added.\n",
        "    \n",
        "    #3 represents the walls. First and last column and rows of the environment matrix will be all 3.\n",
        "    environment[0] = [3 for i in range(n)]\n",
        "    environment[n-1] = [3 for i in range(n)]\n",
        "    environment[:,0] = [3 for i in range(n)]\n",
        "    environment[:,n-1]=[3 for i in range(n)]\n",
        "    #print(\"First Position of the robot:\")\n",
        "    #print(robot_position)\n",
        "    #print(robot_position)\n",
        "    # south_con, north_con, west_con, east_con = robot_position[0] == 4, \n",
        "    \n",
        "    for i in range(max_steps): \n",
        "      #Defines sensors for the environment. Bumpers will see the walls(3) and obstacles(2) if there is any.\n",
        "      #This case there are only walls. Dirt sensor is defined inside bumpers matrix and represented\n",
        "      #as one \n",
        "        if robot_position[0] == n-2: bumpers[\"south\"] = True\n",
        "        if robot_position[0] != n-2: bumpers[\"south\"] = False \n",
        "        if robot_position[1] == n-2: bumpers[\"east\"] = True\n",
        "        if robot_position[1] != n-2: bumpers[\"east\"] = False\n",
        "        if robot_position[1] == 1: bumpers[\"west\"] = True\n",
        "        if robot_position[1] != 1: bumpers[\"west\"] = False\n",
        "        if robot_position[0] == 1: bumpers[\"north\"] = True\n",
        "        if robot_position[0] != 1: bumpers[\"north\"] = False\n",
        "        if environment[robot_position[0]-1][robot_position[1]]==2:bumpers[\"north\"]=True\n",
        "        if environment[robot_position[0]][robot_position[1]+1]==2:bumpers[\"east\"]=True\n",
        "        if environment[robot_position[0]+1][robot_position[1]]==2:bumpers[\"south\"]=True\n",
        "        if environment[robot_position[0]][robot_position[1]-1]==2:bumpers[\"north\"]=True\n",
        "        if environment[robot_position[0]][robot_position[1]]==1: bumpers[\"dirt\"]=True\n",
        "        if environment[robot_position[0]][robot_position[1]]==0: bumpers[\"dirt\"]=False\n",
        "        delta, act = agent()\n",
        "        #print(robot_position, act)\n",
        "        if act=='suck':\n",
        "           environment[robot_position[0]][robot_position[1]]=0\n",
        "        else:\n",
        "           environment=environment\n",
        "        if (bumpers[\"north\"] == True) and (act == 'north'):\n",
        "            robot_position = robot_position\n",
        "        elif (bumpers[\"south\"] == True) and (act == 'south'):\n",
        "            robot_position = robot_position\n",
        "        elif (bumpers[\"east\"] == True) and (act == 'east'):\n",
        "            robot_position = robot_position \n",
        "        elif (bumpers[\"west\"] == True) and (act == 'west'):\n",
        "            robot_position = robot_position \n",
        "        else:\n",
        "            robot_position = robot_position + delta\n",
        "      \n",
        "        print(\"Number of iteration:\")\n",
        "        print(i+1)\n",
        "        print(\"position of robot:\")\n",
        "        print(robot_position)\n",
        "        print(\"Action taken:\")\n",
        "        print(act)\n",
        "        print(\"Environment status after the action\")\n",
        "        print(environment)\n",
        "        print(bumpers)\n",
        "        #if the environment is clean, break the loop.\n",
        "        if 1 not in environment:\n",
        "            break\n",
        "#returns the total action required.\n",
        "    return i+1"
      ]
    },
    {
      "cell_type": "code",
      "execution_count": null,
      "metadata": {
        "outputId": "5af8691a-25e5-4c3a-ebd8-4e83310b9fba",
        "colab": {
          "base_uri": "https://localhost:8080/"
        },
        "id": "G3HbS_wbA89m"
      },
      "outputs": [
        {
          "output_type": "stream",
          "name": "stdout",
          "text": [
            "Number of iteration:\n",
            "1\n",
            "position of robot:\n",
            "[2 1]\n",
            "Action taken:\n",
            "west\n",
            "Environment status after the action\n",
            "[[3 3 3 3 3 3 3]\n",
            " [3 0 0 0 0 1 3]\n",
            " [3 0 1 2 0 0 3]\n",
            " [3 0 0 0 0 0 3]\n",
            " [3 0 0 2 0 1 3]\n",
            " [3 0 0 0 2 0 3]\n",
            " [3 3 3 3 3 3 3]]\n",
            "{'north': False, 'east': False, 'south': False, 'west': True, 'dirt': False}\n",
            "Number of iteration:\n",
            "2\n",
            "position of robot:\n",
            "[3 1]\n",
            "Action taken:\n",
            "south\n",
            "Environment status after the action\n",
            "[[3 3 3 3 3 3 3]\n",
            " [3 0 0 0 0 1 3]\n",
            " [3 0 1 2 0 0 3]\n",
            " [3 0 0 0 0 0 3]\n",
            " [3 0 0 2 0 1 3]\n",
            " [3 0 0 0 2 0 3]\n",
            " [3 3 3 3 3 3 3]]\n",
            "{'north': False, 'east': False, 'south': False, 'west': True, 'dirt': False}\n",
            "Number of iteration:\n",
            "3\n",
            "position of robot:\n",
            "[3 1]\n",
            "Action taken:\n",
            "west\n",
            "Environment status after the action\n",
            "[[3 3 3 3 3 3 3]\n",
            " [3 0 0 0 0 1 3]\n",
            " [3 0 1 2 0 0 3]\n",
            " [3 0 0 0 0 0 3]\n",
            " [3 0 0 2 0 1 3]\n",
            " [3 0 0 0 2 0 3]\n",
            " [3 3 3 3 3 3 3]]\n",
            "{'north': False, 'east': False, 'south': False, 'west': True, 'dirt': False}\n",
            "Number of iteration:\n",
            "4\n",
            "position of robot:\n",
            "[2 1]\n",
            "Action taken:\n",
            "north\n",
            "Environment status after the action\n",
            "[[3 3 3 3 3 3 3]\n",
            " [3 0 0 0 0 1 3]\n",
            " [3 0 1 2 0 0 3]\n",
            " [3 0 0 0 0 0 3]\n",
            " [3 0 0 2 0 1 3]\n",
            " [3 0 0 0 2 0 3]\n",
            " [3 3 3 3 3 3 3]]\n",
            "{'north': False, 'east': False, 'south': False, 'west': True, 'dirt': False}\n",
            "Number of iteration:\n",
            "5\n",
            "position of robot:\n",
            "[2 2]\n",
            "Action taken:\n",
            "east\n",
            "Environment status after the action\n",
            "[[3 3 3 3 3 3 3]\n",
            " [3 0 0 0 0 1 3]\n",
            " [3 0 1 2 0 0 3]\n",
            " [3 0 0 0 0 0 3]\n",
            " [3 0 0 2 0 1 3]\n",
            " [3 0 0 0 2 0 3]\n",
            " [3 3 3 3 3 3 3]]\n",
            "{'north': False, 'east': False, 'south': False, 'west': True, 'dirt': False}\n"
          ]
        },
        {
          "output_type": "execute_result",
          "data": {
            "text/plain": [
              "5"
            ]
          },
          "metadata": {},
          "execution_count": 68
        }
      ],
      "source": [
        "import numpy as np\n",
        "n=7\n",
        "simple_environment(n,simple_randomized_agent, max_steps = 5)\n"
      ]
    },
    {
      "cell_type": "code",
      "source": [
        "def simple_environment(n,agent, max_steps, bumpers = {\"north\" : False, \"east\" : False, \"south\" : False, \"west\" : False, \"dirt\" : False }):\n",
        "    robot_position = np.random.choice([i for i in range(1,n-1)], size=(1, 2))[0]\n",
        "    environment=np.random.choice(3, size=(n, n), p=[0.7, 0.2, 0.1])\n",
        "    #value 2 should be replaced to 3 if there is any obstacle in the environment and another possibility value should be added.\n",
        "    \n",
        "    #3 represents the walls. First and last column and rows of the environment matrix will be all 3.\n",
        "    environment[0] = [3 for i in range(n)]\n",
        "    environment[n-1] = [3 for i in range(n)]\n",
        "    environment[:,0] = [3 for i in range(n)]\n",
        "    environment[:,n-1]=[3 for i in range(n)]\n",
        "    #print(\"First Position of the robot:\")\n",
        "    #print(robot_position)\n",
        "    #print(robot_position)\n",
        "    # south_con, north_con, west_con, east_con = robot_position[0] == 4, \n",
        "    \n",
        "    for i in range(max_steps): \n",
        "      #Defines sensors for the environment. Bumpers will see the walls(3) and obstacles(2) if there is any.\n",
        "      #This case there are only walls. Dirt sensor is defined inside bumpers matrix and represented\n",
        "      #as one \n",
        "        if robot_position[0] == n-2: bumpers[\"south\"] = True\n",
        "        if robot_position[0] != n-2: bumpers[\"south\"] = False \n",
        "        if robot_position[1] == n-2: bumpers[\"east\"] = True\n",
        "        if robot_position[1] != n-2: bumpers[\"east\"] = False\n",
        "        if robot_position[1] == 1: bumpers[\"west\"] = True\n",
        "        if robot_position[1] != 1: bumpers[\"west\"] = False\n",
        "        if robot_position[0] == 1: bumpers[\"north\"] = True\n",
        "        if robot_position[0] != 1: bumpers[\"north\"] = False\n",
        "        if environment[robot_position[0]-1][robot_position[1]]==2:bumpers[\"north\"]=True\n",
        "        if environment[robot_position[0]][robot_position[1]+1]==2:bumpers[\"east\"]=True\n",
        "        if environment[robot_position[0]+1][robot_position[1]]==2:bumpers[\"south\"]=True\n",
        "        if environment[robot_position[0]][robot_position[1]-1]==2:bumpers[\"north\"]=True\n",
        "        if environment[robot_position[0]][robot_position[1]]==1: bumpers[\"dirt\"]=True\n",
        "        if environment[robot_position[0]][robot_position[1]]==0: bumpers[\"dirt\"]=False\n",
        "        delta, act = agent()\n",
        "        #print(robot_position, act)\n",
        "        if act=='suck':\n",
        "           environment[robot_position[0]][robot_position[1]]=0\n",
        "        else:\n",
        "           environment=environment\n",
        "        if (bumpers[\"north\"] == True) and (act == 'north'):\n",
        "            robot_position = robot_position\n",
        "        elif (bumpers[\"south\"] == True) and (act == 'south'):\n",
        "            robot_position = robot_position\n",
        "        elif (bumpers[\"east\"] == True) and (act == 'east'):\n",
        "            robot_position = robot_position \n",
        "        elif (bumpers[\"west\"] == True) and (act == 'west'):\n",
        "            robot_position = robot_position \n",
        "        else:\n",
        "            robot_position = robot_position + delta\n",
        "      \n",
        "        #print(\"Number of iteration:\")\n",
        "        #print(i+1)\n",
        "        #print(\"position of robot:\")\n",
        "        #print(robot_position)\n",
        "        #print(\"Action taken:\")\n",
        "        #print(act)\n",
        "        #print(\"Environment status after the action\")\n",
        "        #print(environment)\n",
        "        #print(bumpers)\n",
        "        #if the environment is clean, break the loop.\n",
        "        if 1 not in environment:\n",
        "            break\n",
        "#returns the total action required.\n",
        "    return i+1"
      ],
      "metadata": {
        "id": "HPWWQfFQYtKX"
      },
      "execution_count": null,
      "outputs": []
    },
    {
      "cell_type": "code",
      "source": [
        "import matplotlib.pyplot as plt\n",
        "step_size_random=list()\n",
        "n=7\n",
        "for i in range(100):\n",
        "    step=simple_environment(n,simple_randomized_agent, max_steps = 1500)\n",
        "    #print(step)\n",
        "    step_size_random.append(step)\n",
        "step_size_reflex = [i for i in step_size_random if i < 4000]\n",
        "plt.hist(step_size_random, bins=5)\n",
        "plt.show()\n",
        "\n",
        "print('mean value for number of iterations:')\n",
        "np.mean(step_size_random)"
      ],
      "metadata": {
        "colab": {
          "base_uri": "https://localhost:8080/",
          "height": 300
        },
        "id": "wtrqDOUdYxyH",
        "outputId": "0471aab7-6de5-4c50-8a32-600378e9e7b6"
      },
      "execution_count": null,
      "outputs": [
        {
          "output_type": "display_data",
          "data": {
            "text/plain": [
              "<Figure size 432x288 with 1 Axes>"
            ],
            "image/png": "[encoded data removed]"
          },
          "metadata": {
            "needs_background": "light"
          }
        },
        {
          "output_type": "stream",
          "name": "stdout",
          "text": [
            "mean value for number of iterations:\n"
          ]
        },
        {
          "output_type": "execute_result",
          "data": {
            "text/plain": [
              "480.61"
            ]
          },
          "metadata": {},
          "execution_count": 72
        }
      ]
    },
    {
      "cell_type": "markdown",
      "source": [
        "RANDOM AGENT PERFORMANCE DROPPED WITH THE OBSTACLE ENVIRONMENT"
      ],
      "metadata": {
        "id": "Utfy0YjKZTPs"
      }
    },
    {
      "cell_type": "markdown",
      "source": [
        "**SIMPLE REFLEX AGENT WITH OBSTACLES**"
      ],
      "metadata": {
        "id": "7GFbgtGMMUMS"
      }
    },
    {
      "cell_type": "code",
      "source": [
        "#RANDOM ENVIRONMENT CHOICE IS CHANGED AND OBSTACLES WERE ADDED (2 VALUES IN ENVIRONMENT MATRIX)"
      ],
      "metadata": {
        "id": "MeY1FjTZMdMO"
      },
      "execution_count": null,
      "outputs": []
    },
    {
      "cell_type": "code",
      "execution_count": null,
      "metadata": {
        "id": "uYoQvvsnOkoD"
      },
      "outputs": [],
      "source": [
        "def simple_environment_2(n,agent, max_steps, bumpers = {\"north\" : False, \"east\" : False, \"south\" : False, \"west\" : False, \"dirt\" : False }):\n",
        "    robot_position = np.random.choice([i for i in range(1,n-1)], size=(1, 2))[0]\n",
        "    environment=np.random.choice(3, size=(n, n), p=[0.7, 0.2, 0.1])\n",
        "    environment[0] = [3 for i in range(n)]\n",
        "    environment[n-1] = [3 for i in range(n)]\n",
        "    environment[:,0] = [3 for i in range(n)]\n",
        "    environment[:,n-1]=[3 for i in range(n)]\n",
        "    #print(\"First Position of the robot:\")\n",
        "    #print(robot_position)\n",
        "  #print(robot_position)\n",
        "   # south_con, north_con, west_con, east_con = robot_position[0] == 4, \n",
        "    \n",
        "    for i in range(max_steps): \n",
        "      #define environmental obstacles. For this case, bumpers will only see the\n",
        "      #walls. Dirt sensor is also defined here.\n",
        "        #reward_space[robot_position[0]+1][robot_position[1]+1]=reward_space[robot_position[0]][robot_position[1]]+1\n",
        "        if robot_position[0] == n-2: bumpers[\"south\"] = True\n",
        "        if robot_position[0] != n-2: bumpers[\"south\"] = False \n",
        "        if robot_position[1] == n-2: bumpers[\"east\"] = True\n",
        "        if robot_position[1] != n-2: bumpers[\"east\"] = False\n",
        "        if robot_position[1] == 1: bumpers[\"west\"] = True\n",
        "        if robot_position[1] != 1: bumpers[\"west\"] = False\n",
        "        if robot_position[0] == 1: bumpers[\"north\"] = True\n",
        "        if robot_position[0] != 1: bumpers[\"north\"] = False\n",
        "        if environment[robot_position[0]-1][robot_position[1]]==2:bumpers[\"north\"]=True\n",
        "        if environment[robot_position[0]][robot_position[1]+1]==2:bumpers[\"east\"]=True\n",
        "        if environment[robot_position[0]+1][robot_position[1]]==2:bumpers[\"south\"]=True\n",
        "        if environment[robot_position[0]][robot_position[1]-1]==2:bumpers[\"north\"]=True\n",
        "\n",
        "\n",
        "        if environment[robot_position[0]][robot_position[1]]==1: bumpers[\"dirt\"]=True\n",
        "        if environment[robot_position[0]][robot_position[1]]==0: bumpers[\"dirt\"]=False\n",
        "        act = agent(bumpers)\n",
        "        if act == 'east':\n",
        "          delta = [0,1]\n",
        "        if act == 'west':\n",
        "          delta = [0,-1]\n",
        "        if act == 'south':\n",
        "          delta = [1,0]  \n",
        "        if act == 'suck':\n",
        "          delta = [0,0]\n",
        "        if act == 'north':\n",
        "          delta = [-1,0]\n",
        "        #print(robot_position, act)\n",
        "        if act=='suck':\n",
        "           environment[robot_position[0]][robot_position[1]]=0\n",
        "        else:\n",
        "           environment=environment\n",
        "        if (bumpers[\"north\"] == True) and (act == 'north'):\n",
        "            robot_position = robot_position\n",
        "        elif (bumpers[\"south\"] == True) and (act == 'south'):\n",
        "            robot_position = robot_position\n",
        "        elif (bumpers[\"east\"] == True) and (act == 'east'):\n",
        "            robot_position = robot_position \n",
        "        elif (bumpers[\"west\"] == True) and (act == 'west'):\n",
        "            robot_position = robot_position \n",
        "        else:\n",
        "            robot_position = robot_position + delta\n",
        "      \n",
        "        #print(\"Number of iteration:\")\n",
        "        #print(i+1)\n",
        "        #print(bumpers)\n",
        "        #print(\"Action taken:\")\n",
        "        #print(act)\n",
        "        #print(\"position of robot:\")\n",
        "        #print(robot_position)\n",
        "        #print(\"Environment status after the action\")\n",
        "        #print(environment)\n",
        "        \n",
        "        #print(reward_space)\n",
        "        #if the environment is clean, break the loop.\n",
        "        if 1 not in environment:\n",
        "            break\n",
        "        \n",
        "    return i+1"
      ]
    },
    {
      "cell_type": "markdown",
      "metadata": {
        "id": "yZpPLsxlOkoR"
      },
      "source": [
        "Simple Agent 5X5 Environment"
      ]
    },
    {
      "cell_type": "code",
      "execution_count": null,
      "metadata": {
        "outputId": "0ac9e821-5fda-4450-efde-b58f31981aa8",
        "colab": {
          "base_uri": "https://localhost:8080/",
          "height": 300
        },
        "id": "3A6GF5yjOkoR"
      },
      "outputs": [
        {
          "output_type": "display_data",
          "data": {
            "text/plain": [
              "<Figure size 432x288 with 1 Axes>"
            ],
            "image/png": "[encoded data removed]"
          },
          "metadata": {
            "needs_background": "light"
          }
        },
        {
          "output_type": "stream",
          "name": "stdout",
          "text": [
            "mean value for number of iterations:\n"
          ]
        },
        {
          "output_type": "execute_result",
          "data": {
            "text/plain": [
              "137.76"
            ]
          },
          "metadata": {},
          "execution_count": 33
        }
      ],
      "source": [
        "import matplotlib.pyplot as plt\n",
        "step_size=list()\n",
        "n=7\n",
        "for i in range(100):\n",
        "    step=simple_environment_2(n,simple_agent, max_steps = 500)\n",
        "    #print(step)\n",
        "    step_size.append(step)\n",
        "step_size_reflex = [i for i in step_size if i < 999999999999999999]\n",
        "plt.hist(step_size, bins=5)\n",
        "plt.show()\n",
        "\n",
        "print('mean value for number of iterations:')\n",
        "np.mean(step_size)"
      ]
    },
    {
      "cell_type": "markdown",
      "source": [
        "IT SHOWS SLIGHTLY LESS PERFORMANCE IN THE OBSTACLE ENVIRONMENT."
      ],
      "metadata": {
        "id": "tCDGLtEKO2Vc"
      }
    },
    {
      "cell_type": "markdown",
      "source": [
        "**MODEL BASED AGENT WITH OBSTACLES:**"
      ],
      "metadata": {
        "id": "LRTu7CbCI40_"
      }
    },
    {
      "cell_type": "code",
      "source": [
        "#Define Obstacles. Since I already implemented that sensors will recognized obstacles in environment array (2 values), there is no need to change anything in agent part."
      ],
      "metadata": {
        "id": "6PB8UGuVL5W4"
      },
      "execution_count": null,
      "outputs": []
    },
    {
      "cell_type": "code",
      "execution_count": null,
      "metadata": {
        "id": "Ju25424iL6Xa"
      },
      "outputs": [],
      "source": [
        "# Your code and description goes here\n",
        "\n",
        "bumpers = {\"north\" : False, \"east\" : False, \"south\" : False, \"west\" : False, \"suck\" : False }\n",
        "    \n",
        "def find_station(n,robot_position,max_steps):\n",
        "    chosen_Act = 'north'\n",
        "    for i in range(max_steps):\n",
        "        # sensors sensing\n",
        "        if robot_position[0] == n-2: bumpers[\"south\"] = True\n",
        "        if robot_position[0] != n-2: bumpers[\"south\"] = False \n",
        "        if robot_position[1] == n-2: bumpers[\"east\"] = True\n",
        "        if robot_position[1] != n-2: bumpers[\"east\"] = False\n",
        "        if robot_position[1] == 1: bumpers[\"west\"] = True\n",
        "        if robot_position[1] != 1: bumpers[\"west\"] = False\n",
        "        if robot_position[0] == 1: bumpers[\"north\"] = True\n",
        "        if robot_position[0] != 1: bumpers[\"north\"] = False\n",
        "        # rationalizing action\n",
        "        if bumpers[chosen_Act] == True: \n",
        "            chosen_Act = 'west' \n",
        "        else: \n",
        "            chosen_Act = chosen_Act\n",
        "        if bumpers[chosen_Act] == True:\n",
        "            #print('arrived at north-west corner')\n",
        "            #print('saving position as (0,0) to memory')\n",
        "            memory_position = robot_position\n",
        "            break\n",
        "        # act upon chosen action\n",
        "        if chosen_Act == 'east':\n",
        "            delta = [0,1]\n",
        "        if chosen_Act == 'west':\n",
        "            delta = [0,-1]\n",
        "        if chosen_Act == 'south':\n",
        "            delta = [1,0]  \n",
        "        if chosen_Act == 'suck':\n",
        "            delta = [0,0]\n",
        "        if chosen_Act == 'north':\n",
        "            delta = [-1,0]         \n",
        "        # changed position\n",
        "        robot_position = robot_position + delta\n",
        "        #print(robot_position)\n",
        "    return robot_position\n",
        "\n",
        "#env = np.random.choice(2, size=(n-2, n-2), p=[0.8, 0.2])\n",
        "\n",
        "def reward_based_movement(robot_position, reward_space, actions):\n",
        "    # put this after possible actions are determined by bumpers!\n",
        "    # robot_position = [0, 0]\n",
        "    # actions = {\"east\" : [0,1], \"south\" : [1,0]}\n",
        "    p_pos, p_reward = list(), list()\n",
        "    p_delta = [j for i,j in actions.items()]\n",
        "    for i in range(len(p_delta)):\n",
        "        p_pos.append(np.array(robot_position) + p_delta[i])\n",
        "        p_reward.append(reward_space[p_pos[-1][0]][p_pos[-1][1]])\n",
        "    idx = p_reward.index(min(p_reward)) # find index of the low reward direction\n",
        "    act = list(actions.keys())[idx]\n",
        "    #print(chosen_Act) \n",
        "    #print(reward_space)\n",
        "    return act\n",
        "\n",
        "def modal_based_agent(n, robot_position, max_steps):\n",
        "    #env = np.random.choice(3, size=(7, 7), p=[0.8, 0.2])\n",
        "    env=np.random.choice(3, size=(n, n), p=[0.7, 0.2, 0.1])\n",
        "    env[0] = [3 for i in range(n)]\n",
        "    env[n-1] = [3 for i in range(n)]\n",
        "    env[:,0] = [3 for i in range(n)]\n",
        "    env[:,n-1]=[3 for i in range(n)]\n",
        "    print('First Environment')\n",
        "    print(env)\n",
        "    robot_position_array = list()\n",
        "    reward_space = np.zeros(shape = (n,n))\n",
        "    #print('This is the environment matrix:')\n",
        "    #print(env)\n",
        "    for i in range(max_steps):\n",
        "        # return back all possiblities.\n",
        "        actions = {\"north\" : [-1,0] , \"east\": [0,1], \"west\" : [0,-1], \"south\" : [1, 0]}\n",
        "        reward_space[robot_position[0]][robot_position[1]]=reward_space[robot_position[0]][robot_position[1]]+1\n",
        "        #print(robot_position)\n",
        "        # sensors sensing\n",
        "        if robot_position[0] == n-2: bumpers[\"south\"] = True\n",
        "        if robot_position[0] != n-2: bumpers[\"south\"] = False \n",
        "        if robot_position[1] == n-2: bumpers[\"east\"] = True\n",
        "        if robot_position[1] != n-2: bumpers[\"east\"] = False\n",
        "        if robot_position[1] == 1: bumpers[\"west\"] = True\n",
        "        if robot_position[1] != 1: bumpers[\"west\"] = False\n",
        "        if robot_position[0] == 1: bumpers[\"north\"] = True\n",
        "        if robot_position[0] != 1: bumpers[\"north\"] = False\n",
        "\n",
        "       \n",
        "        # Obstacle func.  \n",
        "        if env[robot_position[0]-1][robot_position[1]]==2:bumpers[\"north\"]=True\n",
        "        if env[robot_position[0]][robot_position[1]+1]==2:bumpers[\"east\"]=True\n",
        "        if env[robot_position[0]+1][robot_position[1]]==2:bumpers[\"south\"]=True\n",
        "        if env[robot_position[0]][robot_position[1]-1]==2:bumpers[\"west\"]=True\n",
        "        if env[robot_position[0]][robot_position[1]]==1: bumpers[\"suck\"]=True\n",
        "        if env[robot_position[0]][robot_position[1]]==0: bumpers[\"suck\"]=False\n",
        "\n",
        "        \n",
        "        # eliminate irrational choices to determine the action: # POSSIBLE ERROR: it can't remove the same thing twice.        \n",
        "        if bumpers[\"suck\"] == True: \n",
        "            chosen_Act = 'suck'\n",
        "            #print('sucking')\n",
        "        else:\n",
        "            if bumpers['south'] ==  True: del actions['south']  # actions.remove('south')\n",
        "            if bumpers['east'] ==  True:  del actions['east']   # actions.remove('east')\n",
        "            if bumpers['west'] ==  True:  del actions['west']   # actions.remove('west')\n",
        "            if bumpers['north'] ==  True: del actions['north']  # actions.remove('north')\n",
        "        \n",
        "        # Choosing rational action        \n",
        "            if i == 0: \n",
        "                chosen_Act = np.random.choice(list(actions.keys()))\n",
        "                #print('first step')  # first action is total random chosen from possible paths.\n",
        "            elif bumpers[chosen_Act] == True: \n",
        "                #print('we are at wall: ',robot_position)\n",
        "                chosen_Act = reward_based_movement(robot_position,reward_space, actions) #reward_based_movement\n",
        "            elif chosen_Act == 'suck': \n",
        "                #print(actions)\n",
        "                chosen_Act = reward_based_movement(robot_position,reward_space, actions)\n",
        "                #print('cleaned: ', robot_position)\n",
        "            else: \n",
        "                chosen_Act = reward_based_movement(robot_position,reward_space, actions)\n",
        "                #print('else condition. pure reward based')\n",
        "            \n",
        "        \n",
        "        # act upon chosen action\n",
        "        if chosen_Act == 'east':\n",
        "            delta = [0,1]\n",
        "        if chosen_Act == 'west':\n",
        "            delta = [0,-1]\n",
        "        if chosen_Act == 'south':\n",
        "            delta = [1,0]  \n",
        "        if chosen_Act == 'suck':\n",
        "            delta = [0,0]\n",
        "        if chosen_Act == 'north':\n",
        "            delta = [-1,0]            \n",
        "        if chosen_Act == 'suck':\n",
        "            env[robot_position[0]][robot_position[1]]=0\n",
        "        else:\n",
        "            env=env\n",
        "\n",
        "        #if the environment is clean, break the loop.\n",
        "        #if not np.any(env):\n",
        "        if 1 not in env:\n",
        "            print('Environment is clean:', i+1,'steps')\n",
        "            print(env)\n",
        "            break\n",
        "        \n",
        "        # Moving to new position\n",
        "        robot_position = robot_position + delta\n",
        "        robot_position_array.append(robot_position)\n",
        "        #print(reward_space) \n",
        "        \n",
        "    return i+1, reward_space          "
      ]
    },
    {
      "cell_type": "code",
      "execution_count": null,
      "metadata": {
        "colab": {
          "base_uri": "https://localhost:8080/"
        },
        "id": "ff8e2bc3-a87a-4012-971f-f546ac5b3199",
        "outputId": "363c8793-df43-49f9-d846-17b97db180e9"
      },
      "outputs": [
        {
          "output_type": "stream",
          "name": "stdout",
          "text": [
            "First Environment\n",
            "[[3 3 3 3 3 3 3]\n",
            " [3 0 0 2 0 0 3]\n",
            " [3 1 0 0 0 2 3]\n",
            " [3 2 0 1 0 0 3]\n",
            " [3 2 0 0 2 1 3]\n",
            " [3 0 0 0 0 0 3]\n",
            " [3 3 3 3 3 3 3]]\n",
            "Environment is clean: 30 steps\n",
            "[[3 3 3 3 3 3 3]\n",
            " [3 0 0 2 0 0 3]\n",
            " [3 0 0 0 0 2 3]\n",
            " [3 2 0 0 0 0 3]\n",
            " [3 2 0 0 2 0 3]\n",
            " [3 0 0 0 0 0 3]\n",
            " [3 3 3 3 3 3 3]]\n"
          ]
        }
      ],
      "source": [
        " \n",
        "n=7 \n",
        "robot_position = np.random.choice([i for i in range(1,n-1)], size=(1, 2))[0]\n",
        "robot_position = find_station(n,robot_position,1000000)\n",
        "step,_ =modal_based_agent(n,robot_position, 1000000)\n"
      ]
    },
    {
      "cell_type": "code",
      "source": [
        "import matplotlib.pyplot as plt\n",
        "step_size = list()\n",
        "for i in range(100):\n",
        "    n = 7\n",
        "    robot_position = np.random.choice([i for i in range(1,n-1)], size=(1, 2))[0]\n",
        "    robot_position = find_station(n,robot_position,1000000)\n",
        "    step,_ =modal_based_agent(n,robot_position, 1000000)\n",
        "    step_size.append(step)\n",
        "    "
      ],
      "metadata": {
        "id": "rlNC2480JNHH"
      },
      "execution_count": null,
      "outputs": []
    },
    {
      "cell_type": "code",
      "execution_count": null,
      "metadata": {
        "id": "b77e2857-8d40-4616-9c02-c196608e87e5",
        "outputId": "b33d8ca6-ee42-43ea-bafc-a2bdb3f0cd4e"
      },
      "outputs": [
        {
          "data": {
            "image/png": "[encoded data removed]",
            "text/plain": [
              "<Figure size 640x480 with 1 Axes>"
            ]
          },
          "metadata": {},
          "output_type": "display_data"
        },
        {
          "name": "stdout",
          "output_type": "stream",
          "text": [
            "mean value for number of iterations:\n"
          ]
        },
        {
          "data": {
            "text/plain": [
              "30.20408163265306"
            ]
          },
          "execution_count": 5,
          "metadata": {},
          "output_type": "execute_result"
        }
      ],
      "source": [
        "step_size = [i for i in step_size if i < 700000]\n",
        "plt.hist(step_size, bins=5)\n",
        "plt.show()\n",
        "\n",
        "print('mean value for number of iterations:')\n",
        "np.mean(step_size)"
      ]
    },
    {
      "cell_type": "markdown",
      "source": [
        "MODEL AGENT SHOWS SLIGHTLY LESS PERFORMANCE IN THE OBSTACLE ENVIRONMENT."
      ],
      "metadata": {
        "id": "vrd25ZJdWQCb"
      }
    },
    {
      "cell_type": "markdown",
      "metadata": {
        "id": "Pugyb52Rh4mI"
      },
      "source": [
        "## More advanced implementation tasks\n",
        "\n",
        "* __Agent for and environment with obstacles:__ Implement an agent for an environment where the agent does not know how large the environment is (we assume it is rectangular), where it starts or where the obstacles are. An option would be to always move to the closest unchecked/uncleaned square (note that this is actualy depth-first search).\n",
        "\n",
        "* __Utility-based agent:__ Change the environment for a $5 \\times 5$ room, so each square has a fixed probability of getting dirty again. For the implementation, we give the environment a 2-dimensional array of probabilities. The utility of a state is defined as the number of currebntly clean squares in the room. Implement a utility-based agent that maximizes the expected utility over one full charge which lasts for 100000 time steps. To do this, the agent needs to learn the probabilities with which different squares get dirty again. This is very tricky!"
      ]
    },
    {
      "cell_type": "code",
      "execution_count": null,
      "metadata": {
        "id": "-I3LGrorh4mI"
      },
      "outputs": [],
      "source": [
        "# The negative rewward implemented for this homework should not be used if points can go dirty again. A possible case solution would be  \n",
        "#go thorugh all the room, then go to reverse positions and clean the dirts.\n",
        "#Learning of probablitites can be achieved this way."
      ]
    }
  ],
  "metadata": {
    "kernelspec": {
      "display_name": "Python 3 (ipykernel)",
      "language": "python",
      "name": "python3"
    },
    "language_info": {
      "codemirror_mode": {
        "name": "ipython",
        "version": 3
      },
      "file_extension": ".py",
      "mimetype": "text/x-python",
      "name": "python",
      "nbconvert_exporter": "python",
      "pygments_lexer": "ipython3",
      "version": "3.10.6"
    },
    "toc-autonumbering": false,
    "colab": {
      "provenance": [],
      "collapsed_sections": []
    }
  },
  "nbformat": 4,
  "nbformat_minor": 0
}